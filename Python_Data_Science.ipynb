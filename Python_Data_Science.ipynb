{
  "nbformat": 4,
  "nbformat_minor": 0,
  "metadata": {
    "colab": {
      "provenance": [],
      "include_colab_link": true
    },
    "kernelspec": {
      "name": "python3",
      "display_name": "Python 3"
    },
    "language_info": {
      "name": "python"
    }
  },
  "cells": [
    {
      "cell_type": "markdown",
      "metadata": {
        "id": "view-in-github",
        "colab_type": "text"
      },
      "source": [
        "<a href=\"https://colab.research.google.com/github/iriscob/Python_intro/blob/main/Python_Data_Science.ipynb\" target=\"_parent\"><img src=\"https://colab.research.google.com/assets/colab-badge.svg\" alt=\"Open In Colab\"/></a>"
      ]
    },
    {
      "cell_type": "markdown",
      "source": [
        "# Python para Data Science\n",
        "\n",
        "Notebook para el curso de Python para Data Science publicado en la plataforma de [Alura Latam](https://www.aluracursos.com/)"
      ],
      "metadata": {
        "id": "lQx6Mmv0OJyT"
      }
    },
    {
      "cell_type": "markdown",
      "source": [
        "# Introducción a Python\n",
        "¡Vamos a conocer Python, nuestro ambiente de estudio, y también generaremos nuestro primer código en este lenguaje y esta parte fue modificada por mi!"
      ],
      "metadata": {
        "id": "7SiB6JIpYKmY"
      }
    },
    {
      "cell_type": "markdown",
      "source": [
        "## Google Colaboratory\n",
        "\n",
        "Ya aprendimos qué es [Python](https://www.python.org/) y ahora aprenderemos a usar nuestra herramienta de ejecución [Google Colaboratory](https://colab.research.google.com/) para programar en un notebook interactivo.\n",
        "\n",
        "Vamos a probar algunas funciones de este ambiente."
      ],
      "metadata": {
        "id": "Yugfb3fCOYY9"
      }
    },
    {
      "cell_type": "markdown",
      "source": [
        " **`>>> Usa esta celda para mover <<<`**"
      ],
      "metadata": {
        "id": "2iUHQsJasJAk"
      }
    },
    {
      "cell_type": "code",
      "source": [],
      "metadata": {
        "id": "vZO5Sv4qurNj"
      },
      "execution_count": null,
      "outputs": []
    },
    {
      "cell_type": "markdown",
      "source": [
        "## ¡Hola mundo!\n",
        "\n",
        "Vamos a conocer un poco más de cerca nuestro notebook. Para ello ejecutaremos nuestro primer comando en Python: [`print()`](https://docs.python.org/3/library/functions.html#print)"
      ],
      "metadata": {
        "id": "aLSFP2V7XTfe"
      }
    },
    {
      "cell_type": "code",
      "source": [
        "print('hola mundo ,i nombre es Ivan Risco y estoy aprendiendo sobre Ciencias de datos')"
      ],
      "metadata": {
        "id": "o7jrX_iKhdkU",
        "colab": {
          "base_uri": "https://localhost:8080/"
        },
        "outputId": "20e8decf-75af-4046-8903-06f472392a67"
      },
      "execution_count": null,
      "outputs": [
        {
          "output_type": "stream",
          "name": "stdout",
          "text": [
            "hola mundo ,i nombre es Ivan Risco y estoy aprendiendo sobre Ciencias de datos\n"
          ]
        }
      ]
    },
    {
      "cell_type": "code",
      "source": [
        "nombre= \"Ivan Risco\"\n",
        "edad= 33\n",
        "apellido = \"Risco\"\n",
        "print(nombre,edad,apellido)\n"
      ],
      "metadata": {
        "id": "0qZX8_ZQBYyk",
        "colab": {
          "base_uri": "https://localhost:8080/"
        },
        "outputId": "cdd78696-93a0-41c7-b1c2-3428e3666045"
      },
      "execution_count": null,
      "outputs": [
        {
          "output_type": "stream",
          "name": "stdout",
          "text": [
            "Ivan Risco 33 Risco\n"
          ]
        }
      ]
    },
    {
      "cell_type": "code",
      "source": [
        "print(\"I\")\n",
        "print(\"V\")\n",
        "print(\"A\")\n",
        "print(\"N\")\n",
        "\n"
      ],
      "metadata": {
        "id": "GLMzF_AKBY7a",
        "colab": {
          "base_uri": "https://localhost:8080/"
        },
        "outputId": "87060fbd-18c3-45dc-9192-c85fd094c81e"
      },
      "execution_count": null,
      "outputs": [
        {
          "output_type": "stream",
          "name": "stdout",
          "text": [
            "I\n",
            "V\n",
            "A\n",
            "N\n"
          ]
        }
      ]
    },
    {
      "cell_type": "code",
      "source": [
        "frase = \"Escuela de Datos de Alura\"\n",
        "print(frase)"
      ],
      "metadata": {
        "colab": {
          "base_uri": "https://localhost:8080/"
        },
        "id": "Mdk_6d3by8Wc",
        "outputId": "a0e1ef97-e08e-405b-df69-56549b751cfc"
      },
      "execution_count": null,
      "outputs": [
        {
          "output_type": "stream",
          "name": "stdout",
          "text": [
            "Escuela de Datos de Alura\n"
          ]
        }
      ]
    },
    {
      "cell_type": "code",
      "source": [
        "from datetime import date\n",
        "today = date.today()\n",
        "print(today)"
      ],
      "metadata": {
        "colab": {
          "base_uri": "https://localhost:8080/"
        },
        "id": "ws_MTcMwzieu",
        "outputId": "999a46f0-d04c-4bc6-cc8e-78b2264ce865"
      },
      "execution_count": null,
      "outputs": [
        {
          "output_type": "stream",
          "name": "stdout",
          "text": [
            "2025-04-04\n"
          ]
        }
      ]
    },
    {
      "cell_type": "code",
      "source": [
        "print(\"01/08/1996\")"
      ],
      "metadata": {
        "colab": {
          "base_uri": "https://localhost:8080/"
        },
        "id": "cEGyviRMz5-S",
        "outputId": "b079067d-7afa-44f0-99df-0612be38c52d"
      },
      "execution_count": null,
      "outputs": [
        {
          "output_type": "stream",
          "name": "stdout",
          "text": [
            "01/08/1996\n"
          ]
        }
      ]
    },
    {
      "cell_type": "code",
      "source": [
        "año_actual= 20\n",
        "print(año_actual)\n"
      ],
      "metadata": {
        "colab": {
          "base_uri": "https://localhost:8080/"
        },
        "id": "8vuWniD00pUY",
        "outputId": "9fa65fe0-77a7-4d78-efd5-294a80f10045"
      },
      "execution_count": null,
      "outputs": [
        {
          "output_type": "stream",
          "name": "stdout",
          "text": [
            "20\n"
          ]
        }
      ]
    },
    {
      "cell_type": "code",
      "source": [
        "\n",
        "print(id(año_actual))\n",
        "print(id(20))\n"
      ],
      "metadata": {
        "colab": {
          "base_uri": "https://localhost:8080/"
        },
        "id": "Ggt-Tlvy3MTF",
        "outputId": "7f98f1af-e360-4ac9-d873-53421767c8f7"
      },
      "execution_count": null,
      "outputs": [
        {
          "output_type": "stream",
          "name": "stdout",
          "text": [
            "10751464\n",
            "10751464\n"
          ]
        }
      ]
    },
    {
      "cell_type": "code",
      "source": [
        "# Este es un comentario de una línea\n",
        "print(10) # Podemos colocar otro comentario en una línea después de un código\n"
      ],
      "metadata": {
        "colab": {
          "base_uri": "https://localhost:8080/"
        },
        "id": "WWJbSZDB6-kv",
        "outputId": "fa1419f8-4125-4b3e-8ec6-4e2784430855"
      },
      "execution_count": null,
      "outputs": [
        {
          "output_type": "stream",
          "name": "stdout",
          "text": [
            "10\n"
          ]
        }
      ]
    },
    {
      "cell_type": "code",
      "source": [
        "'''\n",
        "Este es un comentario\n",
        "de varias líneas.\n",
        "'''\n"
      ],
      "metadata": {
        "colab": {
          "base_uri": "https://localhost:8080/",
          "height": 35
        },
        "id": "3sfkarQ17CbO",
        "outputId": "e8952cdb-5793-4492-a158-89cfc3374239"
      },
      "execution_count": null,
      "outputs": [
        {
          "output_type": "execute_result",
          "data": {
            "text/plain": [
              "'\\nEste es un comentario\\nde varias líneas.\\n'"
            ],
            "application/vnd.google.colaboratory.intrinsic+json": {
              "type": "string"
            }
          },
          "metadata": {},
          "execution_count": 52
        }
      ]
    },
    {
      "cell_type": "code",
      "source": [
        "# Encabezado de nivel 1\n",
        "## Encabezado de nivel 2\n",
        "### Encabezado de nivel 3\n"
      ],
      "metadata": {
        "id": "njnI6MPy7Pku"
      },
      "execution_count": null,
      "outputs": []
    },
    {
      "cell_type": "markdown",
      "source": [
        "# Manipulando los datos\n",
        "\n",
        "Vamos a aprender sobre las variables en Python, cómo declararlas y utilizarlas además de conocer otros comandos de este lenguaje. :D"
      ],
      "metadata": {
        "id": "iP8uWQmFYFRs"
      }
    },
    {
      "cell_type": "code",
      "source": [],
      "metadata": {
        "id": "CJcVqmEs8Cba"
      },
      "execution_count": null,
      "outputs": []
    },
    {
      "cell_type": "markdown",
      "source": [
        "## Variables\n",
        "\n",
        "En Data Science trabajamos con varios tipos de datos e informaciones, entonces es esencial saber cómo trabajar con las variables."
      ],
      "metadata": {
        "id": "sLNVmnTbag1Z"
      }
    },
    {
      "cell_type": "markdown",
      "source": [
        "Las variables en Python se crean cuando atribuimos un valor a ella.\n",
        "\n",
        "Para esto, colocamos el nombre de la variable, el signo de igual (`=`) y el valor que queremos atribuirle."
      ],
      "metadata": {
        "id": "lsCY0wahAbf6"
      }
    },
    {
      "cell_type": "code",
      "source": [],
      "metadata": {
        "id": "vsHh5buZADND"
      },
      "execution_count": null,
      "outputs": []
    },
    {
      "cell_type": "code",
      "source": [],
      "metadata": {
        "id": "sivPtqSjADQV"
      },
      "execution_count": null,
      "outputs": []
    },
    {
      "cell_type": "code",
      "source": [],
      "metadata": {
        "id": "JC8jO47wADlm"
      },
      "execution_count": null,
      "outputs": []
    },
    {
      "cell_type": "markdown",
      "source": [
        "Existen algunos tipos de nomes que **no** podemos definir para las variables:\n",
        "\n",
        "- **Nombres que comiencen con números**\n",
        "  - Ejemplos: `10_notas`, `2_nombre_casa`, etc.\n",
        "- **Palabras separadas por espacio**\n",
        "  - Ejemplos: `Nombre escuela`, `notas estudiantes`, etc.\n",
        "- **Nombres de funciones de Python**\n",
        "  - Ejemplos: `print`, `type`, etc."
      ],
      "metadata": {
        "id": "om2N0jHKAzwL"
      }
    },
    {
      "cell_type": "markdown",
      "source": [
        "> Las letras mayúsculas y minúsculas generarán diferentes variables. La variable `edad` es diferente de `Edad` que a su vez es diferente de `EDAD`:\n",
        "``` Python\n",
        "edad = 1\n",
        "Edad = 2\n",
        "EDAD = 3\n",
        "_edad = 4\n",
        "_edad_ = 5\n",
        "print(edad, Edad, EDAD, _edad, _edad_)\n",
        "1 2 3 4 5\n",
        "```"
      ],
      "metadata": {
        "id": "A19vY2GVMujB"
      }
    },
    {
      "cell_type": "markdown",
      "source": [
        "## Tipos de variables\n",
        "\n",
        "Cada variable contiene una clase específica con respecto al tipo de objeto al cual esta hace referencia. Estas clases serán diferentes de acuerdo con el tipo de dato que le sea atribuido a una variable.\n",
        "\n",
        "Para conocer la clase de cada elemento usamos la función [`type()`](https://docs.python.org/3/library/functions.html#type)"
      ],
      "metadata": {
        "id": "UqhzuBhBHsps"
      }
    },
    {
      "cell_type": "code",
      "source": [
        "edad = 6\n",
        "type(edad)\n"
      ],
      "metadata": {
        "id": "J5a9t73A_-PX",
        "colab": {
          "base_uri": "https://localhost:8080/"
        },
        "outputId": "2952b986-cbc8-4bec-ae9b-3e37e83fec1e"
      },
      "execution_count": null,
      "outputs": [
        {
          "output_type": "execute_result",
          "data": {
            "text/plain": [
              "int"
            ]
          },
          "metadata": {},
          "execution_count": 62
        }
      ]
    },
    {
      "cell_type": "code",
      "source": [
        "promedio = 9.5\n",
        "type(promedio)"
      ],
      "metadata": {
        "id": "rqmO1ew-_-So",
        "colab": {
          "base_uri": "https://localhost:8080/"
        },
        "outputId": "194c12ef-818e-44a2-cb52-2e40de279249"
      },
      "execution_count": null,
      "outputs": [
        {
          "output_type": "execute_result",
          "data": {
            "text/plain": [
              "float"
            ]
          },
          "metadata": {},
          "execution_count": 63
        }
      ]
    },
    {
      "cell_type": "code",
      "source": [
        "nombre = \"Ivan Risco\"\n",
        "type(nombre)\n"
      ],
      "metadata": {
        "id": "xkrPMkeY_-cP",
        "colab": {
          "base_uri": "https://localhost:8080/"
        },
        "outputId": "c04d2087-5364-4f9f-fc4e-31ba26f435b6"
      },
      "execution_count": null,
      "outputs": [
        {
          "output_type": "execute_result",
          "data": {
            "text/plain": [
              "str"
            ]
          },
          "metadata": {},
          "execution_count": 64
        }
      ]
    },
    {
      "cell_type": "code",
      "source": [
        "v = True\n",
        "type(v)\n"
      ],
      "metadata": {
        "colab": {
          "base_uri": "https://localhost:8080/"
        },
        "id": "pjRj_7uk815K",
        "outputId": "a4e7eb10-134c-4025-ebb5-3d29584a5e64"
      },
      "execution_count": null,
      "outputs": [
        {
          "output_type": "execute_result",
          "data": {
            "text/plain": [
              "bool"
            ]
          },
          "metadata": {},
          "execution_count": 65
        }
      ]
    },
    {
      "cell_type": "markdown",
      "source": [
        "En un conjunto de datos escolares podemos tener varios tipos de informaciones. Supongamos que tenemos acceso a la ficha de datos del alumno *Penélope Camacho*, cómo transformamos este nombre en variables de Python?\n",
        "\n",
        "#### Ficha:\n",
        "\n",
        "- Nombre: Penélope Camacho\n",
        "- Edad: 11 años\n",
        "- Promedio del semestre: 9,75\n",
        "- Situación de aprobación: Verdadera (aprobado)"
      ],
      "metadata": {
        "id": "O-FxDumfWu0C"
      }
    },
    {
      "cell_type": "code",
      "source": [
        "nombre = \"Penelope Camacho\"\n",
        "edad = 11\n",
        "promedio = 9.75\n",
        "aprobado = True\n",
        "type(promedio)\n",
        "print(nombre,edad,promedio,aprobado)\n",
        "print(type(nombre),type(edad),type(promedio),type(aprobado))\n",
        "\n"
      ],
      "metadata": {
        "id": "FabQ7jQf_8Xt",
        "colab": {
          "base_uri": "https://localhost:8080/"
        },
        "outputId": "8d9aa392-8c09-46b0-f658-d1a85796eafc"
      },
      "execution_count": null,
      "outputs": [
        {
          "output_type": "stream",
          "name": "stdout",
          "text": [
            "Penelope Camacho 11 9.75 True\n",
            "<class 'str'> <class 'int'> <class 'float'> <class 'bool'>\n"
          ]
        }
      ]
    },
    {
      "cell_type": "code",
      "source": [],
      "metadata": {
        "id": "IZLQnZUj_8bd"
      },
      "execution_count": null,
      "outputs": []
    },
    {
      "cell_type": "markdown",
      "source": [
        "## Variables numéricas\n",
        "\n",
        "Entre los tipos de datos numéricos vamos a enfocarnos en los tipos `entero` y `float`."
      ],
      "metadata": {
        "id": "KFq_8Sxf-OG0"
      }
    },
    {
      "cell_type": "markdown",
      "source": [
        "Tenemos una tabla de información sobre los diversos cargos, cantidad de personas empleadas y el salario correspondiente:\n",
        "\n",
        "|Cargo | Cantidad | Salario|\n",
        "|---|---|---|\n",
        "|Vigilante | 5 | 300 |\n",
        "|Docente | 16| 500|\n",
        "|Coordinador| 2 |600|\n",
        "\n",
        "Necesitamos trabajar con estos datos para obtener:\n",
        "\n",
        "- La cantidad total de empleados;\n",
        "- La diferencia entre el salario más bajo y más alto; y\n",
        "- El promedio ponderado de los salarios de los empleados de la escuela."
      ],
      "metadata": {
        "id": "8_HYUbkVYdQY"
      }
    },
    {
      "cell_type": "code",
      "source": [
        "c_vigilante = 5\n",
        "c_docente = 16\n",
        "c_coordinador = 2\n",
        "s_vigilante = 300\n",
        "s_docente = 500\n",
        "s_coordinador = 600\n",
        "\n",
        "total_empleados = c_vigilante + c_docente + c_coordinador\n",
        "print(total_empleados)\n",
        "\n",
        "diferencia_salarios = s_coordinador - s_vigilante\n",
        "print(diferencia_salarios)\n",
        "\n",
        "promedio_salarios = (s_vigilante * c_vigilante + s_docente * c_docente + s_coordinador * c_coordinador) / total_empleados\n",
        "\n",
        "print(promedio_salarios)\n",
        "type(promedio_salarios)\n",
        "\n"
      ],
      "metadata": {
        "id": "F_X-wxdm_5Ys",
        "colab": {
          "base_uri": "https://localhost:8080/"
        },
        "outputId": "eba10b1e-cee7-4606-dfe4-839da4ef0a13"
      },
      "execution_count": null,
      "outputs": [
        {
          "output_type": "stream",
          "name": "stdout",
          "text": [
            "23\n",
            "300\n",
            "465.2173913043478\n"
          ]
        },
        {
          "output_type": "execute_result",
          "data": {
            "text/plain": [
              "float"
            ]
          },
          "metadata": {},
          "execution_count": 77
        }
      ]
    },
    {
      "cell_type": "code",
      "source": [],
      "metadata": {
        "id": "gKmBbhII_5b9"
      },
      "execution_count": null,
      "outputs": []
    },
    {
      "cell_type": "code",
      "source": [],
      "metadata": {
        "id": "fIugsxNy_53j"
      },
      "execution_count": null,
      "outputs": []
    },
    {
      "cell_type": "markdown",
      "source": [
        "## Strings"
      ],
      "metadata": {
        "id": "yQy7b0ZWoD-P"
      }
    },
    {
      "cell_type": "markdown",
      "source": [
        "Strings hace referencia a un conjunto de caracteres formando un texto.\n",
        "\n",
        "Podemos crear Strings cuando atribuimos un dato a una variable entre comillas sencillas (`'`) o comillas dobles (`\"`)."
      ],
      "metadata": {
        "id": "vlo2-DXusv3s"
      }
    },
    {
      "cell_type": "code",
      "source": [
        "t= 'Ivan'\n",
        "type(t)\n"
      ],
      "metadata": {
        "id": "ityEWqvh_2wK",
        "colab": {
          "base_uri": "https://localhost:8080/"
        },
        "outputId": "9842142f-a5b4-4cb1-a9e7-4282c05bf163"
      },
      "execution_count": null,
      "outputs": [
        {
          "output_type": "execute_result",
          "data": {
            "text/plain": [
              "str"
            ]
          },
          "metadata": {},
          "execution_count": 78
        }
      ]
    },
    {
      "cell_type": "markdown",
      "source": [
        "Las variables textuales son objetos que poseen métodos que nos ayudan a formatear strings. Los métodos los podemos ejecutar al definir un objeto de acuerdo con la siguiente estructura:\n",
        "\n",
        "```\n",
        "objeto.metodo()\n",
        "```\n",
        "\n",
        "Existen métodos que no necesitan los `()`, siempre es una buena práctica verificar la documentación para cada caso."
      ],
      "metadata": {
        "id": "2e9UD_CCxqz_"
      }
    },
    {
      "cell_type": "markdown",
      "source": [
        "---\n",
        "**Situación:**\n",
        "\n",
        "Recibimos una variable con el nombre de una profesora de la escuela para añadirla a los registros. Sin embargo, necesitamos darle un tratamiento a este texto antes de insertarlo al sistema."
      ],
      "metadata": {
        "id": "p6aPmMGP4tf9"
      }
    },
    {
      "cell_type": "code",
      "source": [
        "texto = '  Micaela de los Sanyos '\n",
        "id(texto)\n"
      ],
      "metadata": {
        "id": "icDWtYTjBO0n",
        "colab": {
          "base_uri": "https://localhost:8080/"
        },
        "outputId": "9da841dd-f055-4fd5-87ea-de891f781c4e"
      },
      "execution_count": null,
      "outputs": [
        {
          "output_type": "execute_result",
          "data": {
            "text/plain": [
              "137597359522000"
            ]
          },
          "metadata": {},
          "execution_count": 79
        }
      ]
    },
    {
      "cell_type": "markdown",
      "source": [
        "El objetivo final es que el nombre aparezca de la siguiente forma:\n",
        "\n",
        "```\n",
        "'MICAELA DE LOS SANTOS'\n",
        "```"
      ],
      "metadata": {
        "id": "Dg2ZXSZOGzjC"
      }
    },
    {
      "cell_type": "markdown",
      "source": [
        "### [`str.upper()` ](https://docs.python.org/3/library/stdtypes.html#str.upper)\n",
        "Convierte una string a mayúsculas."
      ],
      "metadata": {
        "id": "iVTAD8q702eN"
      }
    },
    {
      "cell_type": "code",
      "source": [
        "str.upper(texto)\n"
      ],
      "metadata": {
        "id": "wMVshJrY_ZXh",
        "colab": {
          "base_uri": "https://localhost:8080/",
          "height": 35
        },
        "outputId": "91c53362-36ce-454a-9674-bf1b5f4e3242"
      },
      "execution_count": null,
      "outputs": [
        {
          "output_type": "execute_result",
          "data": {
            "text/plain": [
              "'  MICAELA DE LOS SANYOS '"
            ],
            "application/vnd.google.colaboratory.intrinsic+json": {
              "type": "string"
            }
          },
          "metadata": {},
          "execution_count": 80
        }
      ]
    },
    {
      "cell_type": "markdown",
      "source": [
        "### [`str.lower()`](https://docs.python.org/3/library/stdtypes.html#str.lower)\n",
        "Convierte una string a minúsculas."
      ],
      "metadata": {
        "id": "hbDSBtMV1TpG"
      }
    },
    {
      "cell_type": "code",
      "source": [
        "str.lower(texto)\n"
      ],
      "metadata": {
        "id": "px3yEeNH_YK4",
        "colab": {
          "base_uri": "https://localhost:8080/",
          "height": 35
        },
        "outputId": "64f46e22-4029-416d-f3d4-f3f921ffd048"
      },
      "execution_count": null,
      "outputs": [
        {
          "output_type": "execute_result",
          "data": {
            "text/plain": [
              "'  micaela de los sanyos '"
            ],
            "application/vnd.google.colaboratory.intrinsic+json": {
              "type": "string"
            }
          },
          "metadata": {},
          "execution_count": 81
        }
      ]
    },
    {
      "cell_type": "markdown",
      "source": [
        "### [`str.strip()`](https://docs.python.org/3/library/stdtypes.html#str.strip)\n",
        "Elimina los espacios en blanco al inicio y al final de una string."
      ],
      "metadata": {
        "id": "kz47eWM11gii"
      }
    },
    {
      "cell_type": "code",
      "source": [
        "str.strip(texto)"
      ],
      "metadata": {
        "id": "76dLgNa4_XAe",
        "colab": {
          "base_uri": "https://localhost:8080/",
          "height": 35
        },
        "outputId": "a7cb26d2-5b90-4068-cdf4-05cb697faddd"
      },
      "execution_count": null,
      "outputs": [
        {
          "output_type": "execute_result",
          "data": {
            "text/plain": [
              "'Micaela de los Sanyos'"
            ],
            "application/vnd.google.colaboratory.intrinsic+json": {
              "type": "string"
            }
          },
          "metadata": {},
          "execution_count": 82
        }
      ]
    },
    {
      "cell_type": "markdown",
      "source": [
        "### [`str.replace(antiguo, nuevo)`](https://docs.python.org/3/library/stdtypes.html#str.replace)\n",
        "\n",
        "Sustituye todas las ocurrencias del texto \"antiguo\" en la string por el  \"nuevo\"."
      ],
      "metadata": {
        "id": "m6notiyS1SCV"
      }
    },
    {
      "cell_type": "code",
      "source": [
        "str.replace(texto, 'y', 't')\n",
        "texto\n",
        "id(texto)\n",
        "\n",
        "texto = texto.strip().replace('y', 't').upper()\n",
        "print(texto)\n",
        "\n",
        "id(texto)\n"
      ],
      "metadata": {
        "id": "PNXAixtE_V6R",
        "colab": {
          "base_uri": "https://localhost:8080/"
        },
        "outputId": "8707a0ba-c65c-4288-c554-3a6b4d42e08e"
      },
      "execution_count": null,
      "outputs": [
        {
          "output_type": "stream",
          "name": "stdout",
          "text": [
            "MICAELA DE LOS SANTOS\n"
          ]
        },
        {
          "output_type": "execute_result",
          "data": {
            "text/plain": [
              "137597103846976"
            ]
          },
          "metadata": {},
          "execution_count": 86
        }
      ]
    },
    {
      "cell_type": "markdown",
      "source": [
        "### Observaciones\n",
        "\n",
        "1. Los métodos devuelven una **tranformación**, no son ejecutados directamente sobre la variable donde está almacenado el texto.\n",
        "\n",
        "2. Adicionalmente, podemos acumular la ejecución de los métodos."
      ],
      "metadata": {
        "id": "zukvEjhG2Rcn"
      }
    },
    {
      "cell_type": "code",
      "source": [
        "a = 2**3\n",
        "\n",
        "print(a)\n",
        "\n",
        "\n"
      ],
      "metadata": {
        "id": "JjkBRklr_T5n",
        "colab": {
          "base_uri": "https://localhost:8080/"
        },
        "outputId": "261beda5-a80e-4821-9867-c48e3a777400"
      },
      "execution_count": null,
      "outputs": [
        {
          "output_type": "stream",
          "name": "stdout",
          "text": [
            "8\n"
          ]
        }
      ]
    },
    {
      "cell_type": "markdown",
      "source": [
        "Para que la transformación se pueda ejecutar debemos atribuir la salida de las transformaciones a las variables"
      ],
      "metadata": {
        "id": "1KbwfVut2h6I"
      }
    },
    {
      "cell_type": "code",
      "source": [
        "7//3"
      ],
      "metadata": {
        "colab": {
          "base_uri": "https://localhost:8080/"
        },
        "id": "POgW3dhwZ8VV",
        "outputId": "ae949eea-cb6b-44a9-b4eb-8bb05401b791"
      },
      "execution_count": null,
      "outputs": [
        {
          "output_type": "execute_result",
          "data": {
            "text/plain": [
              "2"
            ]
          },
          "metadata": {},
          "execution_count": 8
        }
      ]
    },
    {
      "cell_type": "code",
      "source": [
        "7%3\n"
      ],
      "metadata": {
        "id": "ocPP-Jaj_SJI",
        "colab": {
          "base_uri": "https://localhost:8080/"
        },
        "outputId": "103d4f04-6958-4190-9def-a5a3a8ca64a0"
      },
      "execution_count": null,
      "outputs": [
        {
          "output_type": "execute_result",
          "data": {
            "text/plain": [
              "1"
            ]
          },
          "metadata": {},
          "execution_count": 7
        }
      ]
    },
    {
      "cell_type": "code",
      "source": [],
      "metadata": {
        "id": "m1RvLGZZ_SP3"
      },
      "execution_count": null,
      "outputs": []
    },
    {
      "cell_type": "markdown",
      "source": [
        "## Capturando datos\n",
        "\n",
        "En algunas aplicaciones necesitamos capturar los valores del usuario de nuestro proyecto. En python, logramos capturar los datos del usuario a través del comando [`input()`](https://docs.python.org/3/library/functions.html#input).\n",
        "\n",
        "Para ejecutar la captura debemos atribuir el resultado de esta función a una variable."
      ],
      "metadata": {
        "id": "0h9Fh5G9kHCa"
      }
    },
    {
      "cell_type": "code",
      "source": [
        "nombre = input('¿Cuál es tu nombre? ').strip().upper()\n",
        "print(nombre)\n",
        "type(nombre)\n",
        "año_admision = int(input('¿Año de admision? '))\n",
        "print(año_admision)\n",
        "type(año_admision)\n",
        "\n",
        "\n"
      ],
      "metadata": {
        "id": "zbH_9i3q_PdY",
        "colab": {
          "base_uri": "https://localhost:8080/"
        },
        "outputId": "eb124766-9a5c-45c1-8e44-575c1f69a753"
      },
      "execution_count": null,
      "outputs": [
        {
          "output_type": "stream",
          "name": "stdout",
          "text": [
            "¿Cuál es tu nombre? Ivan\n",
            "IVAN\n",
            "¿Año de admision? 2025\n",
            "2025\n"
          ]
        },
        {
          "output_type": "execute_result",
          "data": {
            "text/plain": [
              "int"
            ]
          },
          "metadata": {},
          "execution_count": 7
        }
      ]
    },
    {
      "cell_type": "code",
      "source": [
        "año_salida = int(input('¿Año de salida? '))\n",
        "#type(año_salida)\n",
        "nota_admision= float(input('¿Nota de admision? '))\n",
        "#type(nota_admision)\n",
        "\n",
        "\n",
        "print(f'\\tEl año de admision fue: {año_admision} \\n\\tLa note de admision fue: {nota_admision} ')\n"
      ],
      "metadata": {
        "colab": {
          "base_uri": "https://localhost:8080/"
        },
        "id": "Kdnjwe5Uqktg",
        "outputId": "922715d6-17c4-4bb0-9b48-7f7651934f29"
      },
      "execution_count": null,
      "outputs": [
        {
          "output_type": "stream",
          "name": "stdout",
          "text": [
            "¿Año de salida? 2023\n",
            "¿Nota de admision? 9.5\n",
            "\tEl año de admision fue: 2025 \n",
            "\tLa note de admision fue: 9.5 \n"
          ]
        }
      ]
    },
    {
      "cell_type": "code",
      "source": [
        "chr(92)\n",
        "chr(64)\n",
        "chr(72) + chr(111) +  chr(108) + chr(97)\n",
        "\n",
        "\n"
      ],
      "metadata": {
        "id": "JZy1Q9Tl_PgL",
        "colab": {
          "base_uri": "https://localhost:8080/",
          "height": 35
        },
        "outputId": "34a01c02-1cd9-46e1-b960-e355e47344cc"
      },
      "execution_count": null,
      "outputs": [
        {
          "output_type": "execute_result",
          "data": {
            "text/plain": [
              "'Hola'"
            ],
            "application/vnd.google.colaboratory.intrinsic+json": {
              "type": "string"
            }
          },
          "metadata": {},
          "execution_count": 5
        }
      ]
    },
    {
      "cell_type": "code",
      "source": [
        "nombre = \"Ana María\"\n",
        "edad = 17\n",
        "print(f\"El nombre de la alumna es {nombre} y su edad es {edad} años.\")"
      ],
      "metadata": {
        "colab": {
          "base_uri": "https://localhost:8080/"
        },
        "id": "iZznpjdS4p3C",
        "outputId": "79c73b73-8856-40bb-eb39-451ceadac6ee"
      },
      "execution_count": null,
      "outputs": [
        {
          "output_type": "stream",
          "name": "stdout",
          "text": [
            "El nombre de la alumna es Ana María y su edad es 17 años.\n"
          ]
        }
      ]
    },
    {
      "cell_type": "code",
      "source": [
        "nombre_alumno = 'Penélope Camacho'\n",
        "edad_alumno = 11\n",
        "media_alumno = 9.95\n",
        "print('Nombre del alumno es %s, tiene %d años y su media es %f.' %(nombre_alumno, edad_alumno, media_alumno))"
      ],
      "metadata": {
        "colab": {
          "base_uri": "https://localhost:8080/"
        },
        "id": "tVpjwnxK49rx",
        "outputId": "a62f657e-8e76-4e4e-e7dd-e3486cd666f1"
      },
      "execution_count": null,
      "outputs": [
        {
          "output_type": "stream",
          "name": "stdout",
          "text": [
            "Nombre del alumno es Penélope Camacho, tiene 11 años y su media es 9.950000.\n"
          ]
        }
      ]
    },
    {
      "cell_type": "code",
      "source": [
        "x = True\n",
        "print(\"Valor de x: %s\" % str(x))"
      ],
      "metadata": {
        "colab": {
          "base_uri": "https://localhost:8080/"
        },
        "id": "Z5fcNabD5mcq",
        "outputId": "c47fb207-3c3b-4061-f857-6b9c860b70d4"
      },
      "execution_count": null,
      "outputs": [
        {
          "output_type": "stream",
          "name": "stdout",
          "text": [
            "Valor de x: True\n"
          ]
        }
      ]
    },
    {
      "cell_type": "code",
      "source": [
        "nombre_alumno = 'Penélope Camacho'\n",
        "print('Nombre del alumno: {}'.format(nombre_alumno))"
      ],
      "metadata": {
        "colab": {
          "base_uri": "https://localhost:8080/"
        },
        "id": "RImCEURH5sgo",
        "outputId": "7e409bf9-7558-4591-b700-e00278f38f91"
      },
      "execution_count": null,
      "outputs": [
        {
          "output_type": "stream",
          "name": "stdout",
          "text": [
            "Nombre del alumno: Penélope Camacho\n"
          ]
        }
      ]
    },
    {
      "cell_type": "code",
      "source": [],
      "metadata": {
        "id": "CrsTU5C_6G2m"
      },
      "execution_count": null,
      "outputs": []
    },
    {
      "cell_type": "code",
      "source": [
        "nombre_alumno = 'Fabricio Daniel'\n",
        "edad_alumno = 15\n",
        "media_alumno = 9.95\n",
        "print('Nombre del alumno es {}, tiene {} años y su media es {}.' .format(nombre_alumno, edad_alumno, media_alumno))"
      ],
      "metadata": {
        "colab": {
          "base_uri": "https://localhost:8080/"
        },
        "id": "vZRz9FYD6QEW",
        "outputId": "27c4e0a8-d99e-4895-8016-6ba4fc2bb0b9"
      },
      "execution_count": null,
      "outputs": [
        {
          "output_type": "stream",
          "name": "stdout",
          "text": [
            "Nombre del alumno es Fabricio Daniel, tiene 15 años y su media es 9.95.\n"
          ]
        }
      ]
    },
    {
      "cell_type": "markdown",
      "source": [
        "La salida de este comando siempre será una *string*. Esto quiere decir que aunque capturemos un valor de variable numérica, este será de tipo string.\n",
        "\n",
        "Entonces, será necesario **convertir el resultado cuando no se desea utilizar el valor como tipo string**."
      ],
      "metadata": {
        "id": "7z7hcLCk_aCY"
      }
    },
    {
      "cell_type": "markdown",
      "source": [
        "Existen funciones para la conversión de valores:\n",
        "\n",
        "- Enteros: [`int(dato_para_conversion)`](https://docs.python.org/3/library/functions.html#int)\n",
        "- Coma flotante: [`float(dato_para_conversion)`](https://docs.python.org/3/library/functions.html#float)\n",
        "- String: [`str(dato_para_conversion)`](https://docs.python.org/3/library/functions.html#func-str)\n",
        "- Booleano: [`bool(dato_para_conversion)`](https://docs.python.org/3/library/functions.html#bool)"
      ],
      "metadata": {
        "id": "TOlegATj1Jfp"
      }
    },
    {
      "cell_type": "code",
      "source": [
        "#14 Desafío: ¡Es hora de practicar!\n"
      ],
      "metadata": {
        "id": "M2ueeH6l_NMe"
      },
      "execution_count": null,
      "outputs": []
    },
    {
      "cell_type": "code",
      "source": [
        "#1 - Crea un programa que solicite al usuario que escriba su nombre y luego imprima \"Hola, [nombre].\"\n",
        "nombre = input('¿Cuál es tu nombre? ').strip().upper()\n",
        "print(f'Hola, {nombre}')\n"
      ],
      "metadata": {
        "colab": {
          "base_uri": "https://localhost:8080/"
        },
        "id": "EZ-HXKCN63W8",
        "outputId": "118ab736-1399-4cf9-97d8-07596928ae6d"
      },
      "execution_count": null,
      "outputs": [
        {
          "output_type": "stream",
          "name": "stdout",
          "text": [
            "¿Cuál es tu nombre? Ivan\n",
            "Hola, IVAN\n"
          ]
        }
      ]
    },
    {
      "cell_type": "code",
      "source": [
        "#2 - Crea un programa que solicite al usuario que escriba su nombre y edad, y luego imprima \"Hola, [nombre], tienes [edad] años.\"\n",
        "nombre = input('¿Cuál es tu nombre? ').strip().upper()\n",
        "edad = int(input('¿Cuál es tu edad? '))\n",
        "print(f'Hola, {nombre}, tienes {edad} años.')\n"
      ],
      "metadata": {
        "colab": {
          "base_uri": "https://localhost:8080/"
        },
        "id": "5X5Gww5n7JUc",
        "outputId": "6b1c504d-0881-4158-c447-9b6c1bc16c9b"
      },
      "execution_count": null,
      "outputs": [
        {
          "output_type": "stream",
          "name": "stdout",
          "text": [
            "¿Cuál es tu nombre? Ivan \n",
            "¿Cuál es tu edad? 33\n",
            "Hola, IVAN, tienes 33 años.\n"
          ]
        }
      ]
    },
    {
      "cell_type": "code",
      "source": [
        "#3 - Crea un programa que solicite al usuario que escriba su nombre, edad y altura en metros, y luego imprima \"Hola, [nombre], tienes [edad] años y mides [altura] metros.\"\n",
        "nombre = input('¿Cuál es tu nombre? ').strip().upper()\n",
        "edad = int(input('¿Cuál es tu edad? '))\n",
        "altura = float(input('¿Cuál es tu altura? '))\n",
        "print(f'Hola, {nombre}, tienes {edad} años y mides {altura} metros.')\n"
      ],
      "metadata": {
        "colab": {
          "base_uri": "https://localhost:8080/"
        },
        "id": "dq7LxqM47W-j",
        "outputId": "244d30ac-e4e7-4baf-9379-7a978d43bcdb"
      },
      "execution_count": null,
      "outputs": [
        {
          "output_type": "stream",
          "name": "stdout",
          "text": [
            "¿Cuál es tu nombre? Ivan\n",
            "¿Cuál es tu edad? 33\n",
            "¿Cuál es tu altura? 2.3\n",
            "Hola, IVAN, tienes 33 años y mides 2.3 metros.\n"
          ]
        }
      ]
    },
    {
      "cell_type": "code",
      "source": [
        "#4 - Crea un programa que solicite dos valores numéricos al usuario y luego imprima la suma de ambos valores.\n",
        "a = int(input('ingresa numero :'))\n",
        "b = int(input('ingresa numero :'))\n",
        "print(a + b)\n"
      ],
      "metadata": {
        "id": "xfWwuViK_NUn",
        "colab": {
          "base_uri": "https://localhost:8080/"
        },
        "outputId": "d25762f4-6125-4aa1-bb36-9d7454ee05da"
      },
      "execution_count": null,
      "outputs": [
        {
          "output_type": "stream",
          "name": "stdout",
          "text": [
            "ingresa numero :45\n",
            "ingresa numero :65\n",
            "110\n"
          ]
        }
      ]
    },
    {
      "cell_type": "code",
      "source": [
        "# 5 - Crea un programa que solicite tres valores numéricos al usuario y luego imprima la suma de los tres valores.\n",
        "a = int(input('ingresa numero :'))\n",
        "b = int(input('ingresa numero :'))\n",
        "c = int(input('ingresa numero :'))\n",
        "print(a + b + c)\n"
      ],
      "metadata": {
        "id": "uFCHDyew_NZm"
      },
      "execution_count": null,
      "outputs": []
    },
    {
      "cell_type": "code",
      "source": [
        "#6 - Crea un programa que solicite dos valores numéricos al usuario y luego imprima la resta del primero menos el segundo valor.\n",
        "a = int(input('ingresa numero :'))\n",
        "b = int(input('ingresa numero :'))\n",
        "print(a - b)\n"
      ],
      "metadata": {
        "id": "teMr8BdH88U_"
      },
      "execution_count": null,
      "outputs": []
    },
    {
      "cell_type": "code",
      "source": [
        "#7 - Crea un programa que solicite dos valores numéricos al usuario y luego imprima la multiplicación de los dos valores.\n",
        "a = int(input('ingresa numero :'))\n",
        "b = int(input('ingresa numero :'))\n",
        "print(a * b)"
      ],
      "metadata": {
        "colab": {
          "base_uri": "https://localhost:8080/"
        },
        "id": "SdoPGmA_9EEA",
        "outputId": "8f99a33c-eed2-4f49-d251-ddf4f4f2b148"
      },
      "execution_count": null,
      "outputs": [
        {
          "output_type": "stream",
          "name": "stdout",
          "text": [
            "ingresa numero :4\n",
            "ingresa numero :2\n",
            "8\n"
          ]
        }
      ]
    },
    {
      "cell_type": "code",
      "source": [
        "#8 - Crea un programa que solicite dos valores numéricos, un numerador y un denominador, y realice la división entre los dos valores. Asegúrate de que el valor del denominador no sea igual a 0.\n",
        "a = int(input('ingresa numero :'))\n",
        "b = int(input('ingresa numero :'))\n",
        "if b == 0:\n",
        "  print('el denominador no puede ser cero')\n",
        "\n",
        "else:\n",
        "  print(a / b)\n",
        "\n",
        "\n",
        "\n"
      ],
      "metadata": {
        "colab": {
          "base_uri": "https://localhost:8080/"
        },
        "id": "9oInbJJ69TXB",
        "outputId": "f01e7999-4e70-4550-ea1d-272389f15184"
      },
      "execution_count": null,
      "outputs": [
        {
          "output_type": "stream",
          "name": "stdout",
          "text": [
            "ingresa numero :45\n",
            "ingresa numero :0\n",
            "el denominador no puede ser cero\n"
          ]
        }
      ]
    },
    {
      "cell_type": "code",
      "source": [
        "#9 - Crea un programa que solicite dos valores numéricos, un operador y una potencia, y realice la exponenciación entre estos dos valores.\n",
        "a = int(input('ingresa numero :'))\n",
        "b = int(input('ingresa numero :'))\n",
        "print(a ** b)\n"
      ],
      "metadata": {
        "id": "l1lspMH5_FPd"
      },
      "execution_count": null,
      "outputs": []
    },
    {
      "cell_type": "code",
      "source": [
        "#10 - Crea un programa que solicite dos valores numéricos, un numerador y un denominador, y realice la división entera entre los dos valores. Asegúrate de que el valor del denominador no sea igual a 0.\n",
        "a = int(input('ingresa numero :'))\n",
        "b = int(input('ingresa numero :'))\n",
        "if b == 0:\n",
        "  print('el denominador no puede ser cero')\n",
        "\n",
        "else:\n",
        "  print(a // b)\n"
      ],
      "metadata": {
        "colab": {
          "base_uri": "https://localhost:8080/"
        },
        "id": "-FfUPKZE_Z-S",
        "outputId": "1fa289f9-5cfb-42d1-9a44-464334cb0ef6"
      },
      "execution_count": null,
      "outputs": [
        {
          "output_type": "stream",
          "name": "stdout",
          "text": [
            "ingresa numero :65846498\n",
            "ingresa numero :54654\n",
            "1204\n"
          ]
        }
      ]
    },
    {
      "cell_type": "code",
      "source": [
        "#11 - Crea un programa que solicite dos valores numéricos, un numerador y un denominador, y devuelva el resto de la división entre los dos valores. Asegúrate de que el valor del denominador no sea igual a 0.\n",
        "a = int(input('ingresa numero :'))\n",
        "b = int(input('ingresa numero :'))\n",
        "if b == 0:\n",
        "  print('el denominador no puede ser cero')\n",
        "\n",
        "else:\n",
        "  print(a % b) #devuelve el resto\n",
        "\n"
      ],
      "metadata": {
        "id": "_0slu7_I_rn5"
      },
      "execution_count": null,
      "outputs": []
    },
    {
      "cell_type": "code",
      "source": [
        "#12 - Crea un código que solicite las 3 notas de un estudiante e imprima el promedio de las notas.\n",
        "a = float(input('ingresa numero :'))\n",
        "b = float(input('ingresa numero :'))\n",
        "c = float(input('ingresa numero :'))\n",
        "print((a + b + c) / 3)\n",
        "\n",
        "print(f'Media {(a + b + c)/3}.')"
      ],
      "metadata": {
        "id": "uG_TX8Bm_wtx",
        "colab": {
          "base_uri": "https://localhost:8080/"
        },
        "outputId": "6da910b7-bd80-49dd-af1f-254160307321"
      },
      "execution_count": null,
      "outputs": [
        {
          "output_type": "stream",
          "name": "stdout",
          "text": [
            "ingresa numero :7.5\n",
            "ingresa numero :6.5\n",
            "ingresa numero :6.9\n",
            "6.966666666666666\n",
            "Media 6.966666666666666.\n"
          ]
        }
      ]
    },
    {
      "cell_type": "code",
      "source": [
        "#13 - Crea un código que calcule e imprima el promedio ponderado de los números 5, 12, 20 y 15 con pesos respectivamente iguales a 1, 2, 3 y 4.\n",
        "\n",
        "# Datos proporcionados\n",
        "numeros = [5, 12, 20, 15]\n",
        "pesos = [1, 2, 3, 4]\n",
        "\n",
        "# Calcular la suma ponderada\n",
        "suma_ponderada = 0\n",
        "for i in range(len(numeros)):\n",
        "  suma_ponderada += numeros[i] * pesos[i]\n",
        "\n",
        "# Calcular la suma de los pesos\n",
        "suma_pesos = sum(pesos)\n",
        "\n",
        "# Calcular el promedio ponderado\n",
        "if suma_pesos != 0:\n",
        "  promedio_ponderado = suma_ponderada / suma_pesos\n",
        "  print(f\"Los números son: {numeros}\")\n",
        "  print(f\"Los pesos son: {pesos}\")\n",
        "  print(f\"El promedio ponderado es: {promedio_ponderado}\")\n",
        "else:\n",
        "  print(\"Error: La suma de los pesos no puede ser cero.\")\n",
        "\n",
        "\n",
        "\n"
      ],
      "metadata": {
        "colab": {
          "base_uri": "https://localhost:8080/"
        },
        "id": "3-KfM7r2ZVSe",
        "outputId": "82a21b55-a941-41a1-bfb1-7496350620dd"
      },
      "execution_count": null,
      "outputs": [
        {
          "output_type": "stream",
          "name": "stdout",
          "text": [
            "Los números son: [5, 12, 20, 15]\n",
            "Los pesos son: [1, 2, 3, 4]\n",
            "El promedio ponderado es: 14.9\n"
          ]
        }
      ]
    },
    {
      "cell_type": "code",
      "source": [
        "# Datos proporcionados\n",
        "n1 = 5\n",
        "n2 = 12\n",
        "n3 = 20\n",
        "n4 = 15\n",
        "\n",
        "# pesos, donde correlativo es p1 es de n1, p2 es n2, etc.\n",
        "p1 = 1\n",
        "p2 = 2\n",
        "p3 = 3\n",
        "p4 = 4\n",
        "\n",
        "# Calcular la suma ponderada\n",
        "\n",
        "suma_ponderada = n1 * p1 + n2 * p2 + n3 * p3 + n4 * p4\n",
        "\n",
        "# Calcular la suma de los pesos\n",
        "suma_pesos = p1 + p2 + p3 + p4\n",
        "\n",
        "# Promedio poderado\n",
        "promedio_ponderado = suma_ponderada / suma_pesos\n",
        "\n",
        "# Imprimir promedio ponderado\n",
        "\n",
        "print(f\"El promedio ponderado es: {promedio_ponderado}\")\n"
      ],
      "metadata": {
        "id": "ueuT3kNM_wgS",
        "colab": {
          "base_uri": "https://localhost:8080/"
        },
        "outputId": "679d3397-aa3a-42df-c2ea-2009ed9e5e15"
      },
      "execution_count": null,
      "outputs": [
        {
          "output_type": "stream",
          "name": "stdout",
          "text": [
            "El promedio ponderado es: 14.9\n"
          ]
        }
      ]
    },
    {
      "cell_type": "code",
      "source": [
        "media_ponderada = (5*1 + 12*2 + 20*3 + 15*4) / (1+2+3+4)\n",
        "print(f'Media {media_ponderada}.')\n"
      ],
      "metadata": {
        "colab": {
          "base_uri": "https://localhost:8080/"
        },
        "id": "IiKtSqQfe2mg",
        "outputId": "c23a9d69-559c-494d-b387-76edb9e941a8"
      },
      "execution_count": null,
      "outputs": [
        {
          "output_type": "stream",
          "name": "stdout",
          "text": [
            "Media 14.9.\n"
          ]
        }
      ]
    },
    {
      "cell_type": "markdown",
      "source": [
        "Trataremos de representar mejor ahora el resultado de la transformación que obtuvimos. Nosotros podemos formatear y presentar nuestro resultado mezclando strings con valores no textuales.\n",
        "\n",
        "Para ello utilizamos la estructura de formatación `f` con strings."
      ],
      "metadata": {
        "id": "yNI2-XTbB3aS"
      }
    },
    {
      "cell_type": "code",
      "source": [
        "#Editando textos\n",
        "#14 - Crea una variable llamada \"frase\" y asígnale una cadena de texto de tu elección. Luego, imprime la frase en pantalla.\n",
        "\n",
        "v = 'Hola mundo'\n",
        "print(v)\n",
        "\n",
        "\n"
      ],
      "metadata": {
        "id": "keJjA5N9_K5i"
      },
      "execution_count": null,
      "outputs": []
    },
    {
      "cell_type": "code",
      "source": [
        "#15 - Crea un código que solicite una frase y luego imprima la frase en pantalla.\n",
        "\n",
        "frase = input('ingresa frase : ')\n",
        "print(frase)\n"
      ],
      "metadata": {
        "colab": {
          "base_uri": "https://localhost:8080/"
        },
        "id": "Quc7N5ke-AAY",
        "outputId": "3b1def69-6cf7-4958-f914-23f7a2c13208"
      },
      "execution_count": null,
      "outputs": [
        {
          "output_type": "stream",
          "name": "stdout",
          "text": [
            "ingresa frase : Ivan\n",
            "Ivan\n"
          ]
        }
      ]
    },
    {
      "cell_type": "code",
      "source": [
        "#16 - Crea un código que solicite una frase al usuario y luego imprima la misma frase ingresada pero en mayúsculas.\n",
        "f = input('ingresa frase : ').upper()\n",
        "print(f)\n"
      ],
      "metadata": {
        "id": "9bzcXALV9_9i"
      },
      "execution_count": null,
      "outputs": []
    },
    {
      "cell_type": "code",
      "source": [
        "#17 - Crea un código que solicite una frase al usuario y luego imprima la misma frase ingresada pero en minúsculas.\n",
        "a = input('ingresa frase : ').lower()\n",
        "print(a)\n",
        "\n"
      ],
      "metadata": {
        "id": "nAdPeuZS9_6n"
      },
      "execution_count": null,
      "outputs": []
    },
    {
      "cell_type": "code",
      "source": [
        "#18 - Crea una variable llamada \"frase\" y asígnale una cadena de texto de tu elección. Luego, imprime la frase sin espacios en blanco al principio y al final.\n",
        "\n",
        "f = ' Hola mundo '\n",
        "print(f.strip())\n",
        "\n",
        "\n",
        "\n",
        "\n",
        "\n",
        "\n"
      ],
      "metadata": {
        "colab": {
          "base_uri": "https://localhost:8080/"
        },
        "id": "rvmg5Suc9_4A",
        "outputId": "21e6d0b5-762a-4539-d683-4c4382be1591"
      },
      "execution_count": null,
      "outputs": [
        {
          "output_type": "stream",
          "name": "stdout",
          "text": [
            "Hola mundo\n"
          ]
        }
      ]
    },
    {
      "cell_type": "code",
      "source": [
        "#19 - Crea un código que solicite una frase al usuario y luego imprima la misma frase sin espacios en blanco al principio y al final.\n",
        "a = input('ingresa frase : ').lower().strip()  # lo mejor es usar el strip aqui en el input, quita espacio en blanco al proncipio y al final.\n",
        "print(a)\n",
        "\n"
      ],
      "metadata": {
        "colab": {
          "base_uri": "https://localhost:8080/"
        },
        "id": "Mir9nnau9_1J",
        "outputId": "467dd18b-864a-4528-eacc-58f9209b9e0e"
      },
      "execution_count": null,
      "outputs": [
        {
          "output_type": "stream",
          "name": "stdout",
          "text": [
            "ingresa frase :     1235\n",
            "1235\n"
          ]
        }
      ]
    },
    {
      "cell_type": "code",
      "source": [
        "#20 20 - Crea un código que solicite una frase al usuario y luego imprima la misma frase sin espacios en blanco al principio y al final, además de convertirla a minúsculas.\n",
        "a = input('ingresa frase : ').lower().strip()\n",
        "print(a)\n",
        "\n"
      ],
      "metadata": {
        "id": "c0mShkP59_ye"
      },
      "execution_count": null,
      "outputs": []
    },
    {
      "cell_type": "code",
      "source": [
        "#21 - Crea un código que solicite una frase al usuario y luego imprima la misma frase con todas las vocales \"e\" reemplazadas por la letra \"f\".\n",
        "a = input('ingresa frase : ').lower().strip().replace('e', 'f')\n",
        "print(a)\n",
        "\n"
      ],
      "metadata": {
        "colab": {
          "base_uri": "https://localhost:8080/"
        },
        "id": "lFcMbU6t9_vi",
        "outputId": "fa419539-83d3-4623-f38c-df3dadd57f06"
      },
      "execution_count": null,
      "outputs": [
        {
          "output_type": "stream",
          "name": "stdout",
          "text": [
            "ingresa frase : Estimados señores la sesion de hoy estara destinada al analisis\n",
            "fstimados sfñorfs la sfsion df hoy fstara dfstinada al analisis\n"
          ]
        }
      ]
    },
    {
      "cell_type": "code",
      "source": [
        "#22 - Crea un código que solicite una frase al usuario y luego imprima la misma frase con todas las vocales \"a\" reemplazadas por el carácter \"@\".\n",
        "a = input('ingresa frase : ').lower().strip().replace('a', '@')\n",
        "print(a)\n"
      ],
      "metadata": {
        "colab": {
          "base_uri": "https://localhost:8080/"
        },
        "id": "kIbB4Q269_sx",
        "outputId": "89c70c7b-430f-48c3-f142-77a42c73c237"
      },
      "execution_count": null,
      "outputs": [
        {
          "output_type": "stream",
          "name": "stdout",
          "text": [
            "ingresa frase : Estimados señores la sesion de hoy estara destinada al analisis\n",
            "estim@dos señores l@ sesion de hoy est@r@ destin@d@ @l @n@lisis\n"
          ]
        }
      ]
    },
    {
      "cell_type": "code",
      "source": [
        "#23 - Crea un código que solicite una frase al usuario y luego imprima la misma frase con todas las consonantes \"s\" reemplazadas por el carácter \"$\".\n",
        "a = input('ingresa frase : ').lower().strip().replace('s', '$')\n",
        "print(a)\n"
      ],
      "metadata": {
        "colab": {
          "base_uri": "https://localhost:8080/"
        },
        "id": "k7Fc6jOa9_mM",
        "outputId": "9575497e-f8aa-4b7c-dee1-07201ab4d639"
      },
      "execution_count": null,
      "outputs": [
        {
          "output_type": "stream",
          "name": "stdout",
          "text": [
            "ingresa frase : Estimados señores la sesion de hoy estara destinada al analisis\n",
            "e$timado$ $eñore$ la $e$ion de hoy e$tara de$tinada al anali$i$\n"
          ]
        }
      ]
    },
    {
      "cell_type": "code",
      "source": [],
      "metadata": {
        "id": "55-ofUL19_Xz"
      },
      "execution_count": null,
      "outputs": []
    },
    {
      "cell_type": "code",
      "source": [],
      "metadata": {
        "id": "75MfpeEc9_Js"
      },
      "execution_count": null,
      "outputs": []
    },
    {
      "cell_type": "markdown",
      "source": [
        "# Estructuras condicionales"
      ],
      "metadata": {
        "id": "NwRaiHHHhhyl"
      }
    },
    {
      "cell_type": "code",
      "source": [],
      "metadata": {
        "id": "pa4gLncu-mvU"
      },
      "execution_count": null,
      "outputs": []
    },
    {
      "cell_type": "code",
      "source": [],
      "metadata": {
        "id": "_cWRmDiE-m4p"
      },
      "execution_count": null,
      "outputs": []
    },
    {
      "cell_type": "markdown",
      "source": [
        "## `IF` y `ELSE`\n",
        "\n",
        "Los comandos `if` y `else` son dos estructuras condicionales. El comando `if` ejecutará el bloque de comandos en caso de que la condición citada sea  **verdadera**. El comando `else` ejecutará el bloque de comandos en el caso de que la condicional de `if` sea **falsa**."
      ],
      "metadata": {
        "id": "qXZqg9aYEhAh"
      }
    },
    {
      "cell_type": "markdown",
      "source": [
        "El comando `if` es una palabra clave en Python que significa \"si\". Este se emplea para conformar la estructura condicional, que te permite verificar si una determinada condición es verdadera o falsa e, inmediatamente después, ejecute un bloque de código específico dependiendo del resultado de la verificación. La sintaxis para usar el comando `if` es:\n",
        "\n",
        "\n",
        "\n",
        "```\n",
        "if condicion:\n",
        "    # Realiza algo\n",
        "```\n",
        "\n"
      ],
      "metadata": {
        "id": "EIhlqHXd2Gil"
      }
    },
    {
      "cell_type": "code",
      "source": [],
      "metadata": {
        "id": "mT97NMicifJu"
      },
      "execution_count": null,
      "outputs": []
    },
    {
      "cell_type": "code",
      "source": [
        "edad_maria = int(input('Ingrese la edad de María: '))\n",
        "edad_beatriz = int(input('Ingrese la edad de Beatriz: '))\n",
        "\n",
        "if edad_maria > edad_beatriz:\n",
        "  print('María es mayor que Beatriz.')"
      ],
      "metadata": {
        "id": "S2S6XAFz-czM",
        "colab": {
          "base_uri": "https://localhost:8080/"
        },
        "outputId": "25314a20-b2df-461f-d865-70dfe0fdb0d8"
      },
      "execution_count": null,
      "outputs": [
        {
          "output_type": "stream",
          "name": "stdout",
          "text": [
            "Ingrese la edad de María: 65\n",
            "Ingrese la edad de Beatriz: 45\n",
            "María es mayor que Beatriz.\n"
          ]
        }
      ]
    },
    {
      "cell_type": "code",
      "source": [
        "edad_maria = int(input('Ingrese la edad de María: '))\n",
        "edad_beatriz = int(input('Ingrese la edad de Beatriz: '))\n",
        "\n",
        "if edad_maria < edad_beatriz:\n",
        "  print('María es menor que Beatriz.')\n"
      ],
      "metadata": {
        "id": "4JVI2t4_igTO"
      },
      "execution_count": null,
      "outputs": []
    },
    {
      "cell_type": "code",
      "source": [
        "empleados_empresa_1 = int(input('Ingrese la cantidad de empleados de la empresa 1: '))\n",
        "empleados_empresa_2 = int(input('Ingrese la cantidad de empleados de la empresa 2: '))\n",
        "\n",
        "if empleados_empresa_1 >= empleados_empresa_2:\n",
        "  print('La empresa 1 tiene una cantidad de empleados mayor o igual a la empresa 2.')\n"
      ],
      "metadata": {
        "id": "YHkwMMyY-c1r"
      },
      "execution_count": null,
      "outputs": []
    },
    {
      "cell_type": "code",
      "source": [
        "empleados_empresa_1 = int(input('Ingrese la cantidad de empleados de la empresa 1: '))\n",
        "empleados_empresa_2 = int(input('Ingrese la cantidad de empleados de la empresa 2: '))\n",
        "\n",
        "if empleados_empresa_1 <= empleados_empresa_2:\n",
        "  print('La empresa 1 tiene una cantidad de empleados menor o igual a la empresa 2.')\n"
      ],
      "metadata": {
        "id": "bB1DqVlVisMZ"
      },
      "execution_count": null,
      "outputs": []
    },
    {
      "cell_type": "code",
      "source": [
        "libro_1 = input('Ingrese el título del 1° libro: ')\n",
        "libro_2 = input('Ingrese el título del 2° libro: ')\n",
        "\n",
        "if libro_1 == libro_2:\n",
        "  print('Los libros tienen el mismo título.')\n"
      ],
      "metadata": {
        "id": "nKe5jHLtiuym"
      },
      "execution_count": null,
      "outputs": []
    },
    {
      "cell_type": "code",
      "source": [
        "libro_1 = input('Ingrese el título del 1° libro: ')\n",
        "libro_2 = input('Ingrese el título del 2° libro: ')\n",
        "\n",
        "if libro_1 != libro_2:\n",
        "  print('Los libros tienen títulos diferentes.')\n"
      ],
      "metadata": {
        "id": "hDRDgmM1izNN"
      },
      "execution_count": null,
      "outputs": []
    },
    {
      "cell_type": "markdown",
      "source": [
        "Ya el comando `else` en Python se usa en junción con la palabra clave `if` para formar una estructura condicional. la sintaxis para usar el `else` es:\n",
        "\n",
        "```\n",
        "if condicion:\n",
        "  # codigo en caso de que sea verdad\n",
        "else:\n",
        "  # codigo en caso de que sea falso\n",
        "```\n",
        "\n",
        "el comando `else` se ejecuta cuando la condición verificada por el `if` es evaluada como `False`."
      ],
      "metadata": {
        "id": "27RW2v_sIKct"
      }
    },
    {
      "cell_type": "code",
      "source": [
        "nota = float(input('Ingrese la nota del estudiante: '))\n",
        "\n",
        "if nota >= 7.0:\n",
        "  print('El estudiante aprobó la materia.')\n",
        "\n",
        "if 7.0 > nota >= 5.0:\n",
        "  print('Derecho a recuperacion.')\n",
        "\n",
        "if 5.0 > nota:\n",
        "  print('Reprobado.')\n",
        "\n",
        "else:\n",
        "\n",
        " print('El estudiante reprobó la materia.')\n"
      ],
      "metadata": {
        "id": "ZTfNJd_f-aOq",
        "colab": {
          "base_uri": "https://localhost:8080/"
        },
        "outputId": "a7294d3a-fc9d-4206-d3f4-31eafb23aa7f"
      },
      "execution_count": null,
      "outputs": [
        {
          "output_type": "stream",
          "name": "stdout",
          "text": [
            "Ingrese la nota del estudiante: 4\n",
            "Reprobado.\n"
          ]
        }
      ]
    },
    {
      "cell_type": "markdown",
      "source": [
        "---\n",
        "**Situación:**\n",
        "\n",
        "Recibiremos el promedio de la nota de los estudiantes y necesitamos de un algoritmo que ejecute el análisis y determine si el estudiante fue **Aprobado** o **Reprobado**, mostrando un mensaje del resultado. Para ser aprobado, el promedio necesita ser igual o superior a 7.0."
      ],
      "metadata": {
        "id": "BqORg85XX-Nl"
      }
    },
    {
      "cell_type": "code",
      "source": [
        "nota = float(input('Ingrese la nota del estudiante: '))\n",
        "\n",
        "if nota >= 7.0:\n",
        "  print('El estudiante aprobó la materia.')\n",
        "\n",
        "if 7.0 > nota >= 5.0:\n",
        "  print('Derecho a recuperacion.')\n",
        "\n",
        "if 5.0 > nota:\n",
        "  print('Reprobado.')\n",
        "\n",
        "else:\n",
        "\n",
        " print('El estudiante reprobó la materia.')"
      ],
      "metadata": {
        "id": "UukCN4AQ-YYW"
      },
      "execution_count": null,
      "outputs": []
    },
    {
      "cell_type": "markdown",
      "source": [
        "Ahora, nuestra institución educativa estableció que las personas que tengan el promedio entre 5.0 y 7.0 pueden participar del curso de **Recuperación** durante las vacaciones para lograr aprobar.\n",
        "\n",
        "Entonces podemos apoyarnos en un conjunto de `if`s para poder estructurar esta nueva condición."
      ],
      "metadata": {
        "id": "bD9O17HB6LUo"
      }
    },
    {
      "cell_type": "code",
      "source": [
        "nota = float(input('Ingrese la nota del estudiante: '))\n",
        "\n",
        "if nota >= 7.0:\n",
        "  print('El estudiante aprobó la materia.')\n",
        "\n",
        "if 7.0 > nota >= 5.0:\n",
        "  print('Derecho a recuperacion.')\n",
        "\n",
        "if 5.0 > nota:\n",
        "  print('Reprobado.')\n",
        "\n",
        "else:\n",
        "\n",
        " print('El estudiante reprobó la materia.')"
      ],
      "metadata": {
        "id": "G9cJ5O9--W52"
      },
      "execution_count": null,
      "outputs": []
    },
    {
      "cell_type": "markdown",
      "source": [
        "Observa que en casos con 3 situaciones como este necesitamos definir bien nuestras condiciones. Pues, si realizamos una condición con `else` al final, este irá a considerar solamente la condición `if` inmediatamente anterior para generar la salida en caso de que el resultado de su operación lógica sea **falso** dando como resultado, dos o más ejecuciones.\n",
        "\n",
        "Por ejemplo:"
      ],
      "metadata": {
        "id": "D5e2mByjvycO"
      }
    },
    {
      "cell_type": "code",
      "source": [],
      "metadata": {
        "id": "C21JmOuK-VU8"
      },
      "execution_count": null,
      "outputs": []
    },
    {
      "cell_type": "code",
      "source": [],
      "metadata": {
        "id": "bHiVgnPs-Vlv"
      },
      "execution_count": null,
      "outputs": []
    },
    {
      "cell_type": "markdown",
      "source": [
        "## `ELIF`\n",
        "\n",
        "El comando `elif` es una palabra clave en Python que significa \"si no, si\" y lo podemos considerar una *contracción* entre `else` e `if`. Se utiliza en conjunto con la palabra clave `if` para formar una estructura condicional en cadena."
      ],
      "metadata": {
        "id": "04T5g-7h4zWx"
      }
    },
    {
      "cell_type": "markdown",
      "source": [
        "la sintaxis para utilizar el comando `elif` es:\n",
        "\n",
        "```\n",
        "if condicion1:\n",
        "    # Realiza algo\n",
        "elif condicion2:\n",
        "    # Realiza otra cosa\n",
        "elif condicion3:\n",
        "    # Realiza otra cosa\n",
        "else:\n",
        "    # Realiza algo diferente\n",
        "```\n",
        "\n",
        "El comando `elif` permite que puedas verificar varias condiciones en cadena, economizando espacio en tu código. Si la primera condición se evalúa como `False`, el interpretador de Python evaluará la próxima condición con el `elif`. Ello continuará hasta que una condición sea evaluada como `True` o hasta que el `else` sea alcazado. Si ninguna de las condiciones es evaluada como `True`, la ejecución del código del comando `else` será iniciada."
      ],
      "metadata": {
        "id": "rNBHr5mm1Lm6"
      }
    },
    {
      "cell_type": "markdown",
      "source": [
        "Vamos a emplear el mismo caso anterior:"
      ],
      "metadata": {
        "id": "MVoykFbB4bd4"
      }
    },
    {
      "cell_type": "code",
      "source": [
        "nota = float(input('Ingrese la nota del estudiante: '))\n",
        "\n",
        "if nota >= 7.0:\n",
        "  print('El estudiante aprobó la materia.')\n",
        "\n",
        "if 7.0 > nota >= 5.0:\n",
        "  print('Derecho a recuperacion.')\n",
        "\n",
        "else:\n",
        " print('El estudiante reprobó la materia.')"
      ],
      "metadata": {
        "id": "QFamB78s-TW_",
        "colab": {
          "base_uri": "https://localhost:8080/"
        },
        "outputId": "058aabcf-b9d5-4302-d8e8-7cba3c3e2bcd"
      },
      "execution_count": null,
      "outputs": [
        {
          "output_type": "stream",
          "name": "stdout",
          "text": [
            "Ingrese la nota del estudiante: 5\n",
            "Derecho a recuperacion.\n"
          ]
        }
      ]
    },
    {
      "cell_type": "code",
      "source": [
        "nota = float(input('Ingrese la nota del estudiante: '))\n",
        "\n",
        "if nota >= 7.0:\n",
        "  print('El estudiante aprobó la materia.')\n",
        "\n",
        "elif 7.0 > nota >= 5.0:\n",
        "  print('Derecho a recuperacion.')\n",
        "\n",
        "else:\n",
        " print('El estudiante reprobó la materia.')"
      ],
      "metadata": {
        "id": "Su3o7ZYAqnAp"
      },
      "execution_count": null,
      "outputs": []
    },
    {
      "cell_type": "code",
      "source": [],
      "metadata": {
        "id": "nuScbnHF-TfK"
      },
      "execution_count": null,
      "outputs": []
    },
    {
      "cell_type": "markdown",
      "source": [
        "## Operadores\n",
        "\n",
        "Durante la construcción de comandos a veces necesitamos de una elaboración mayor de la expresión condicional, necesitando que algunos operadores lógicos se encuentren integrados."
      ],
      "metadata": {
        "id": "Tf1wSOem6iwZ"
      }
    },
    {
      "cell_type": "markdown",
      "source": [
        "### `AND`, `OR`, `NOT`\n",
        "\n",
        "Los operadores lógicos `and`, `or` y `not` son usados para combinar expresiones lógicas en Python. Ellos son usados frecuentemente en conjunto con el comando `if` para crear estructuras condicionales más complejas.\n"
      ],
      "metadata": {
        "id": "GFIZnRWXGPWO"
      }
    },
    {
      "cell_type": "markdown",
      "source": [
        "- `AND` es usado para verificar si dos condiciones son verdaderas. La expresión lógica¹ `x and y` se evalúa como `True` tan solo si **ambas condiciones `x` y `y` son verdaderas**, y como `False` en caso contrario.\n",
        "\n",
        "- `OR` es usado para verificar si al menos una de las condiciones es verdadera. La expresión lógica `x or y` se evalúa como `True` **si al menos una de las condiciones `x` o `y` es verdadera**, y como `False` si ambas condiciones son falsas.\n",
        "\n",
        "- `NOT` es usado para **negar una condición**. La expresión lógica `not x` es evaluada como `True` si la condición x es falsa, y como `False` si la condición x es verdadera.\n",
        "\n",
        "¹ Una expresión lógica es una declaración que puede ser evaluada como verdadera o falsa. Ella se compone por operandos lógicos² y por operadores lógicos³, que son usados ​​para combinar varias expresiones lógicas en una única expresión.\n",
        "\n",
        "² Los operandos lógicos son los elementos que son comparados o evaluados en una expresión lógica. Ellos son generalmente valores verdaderos o falsos, pero también pueden ser expresiones lógicas más complejas. En Python, los operandos lógicos son los valores `True` y `False`.\n",
        "\n",
        "³ Los operadores lógicos son ls símbolos o palabras clave que son usados ​​para combinar varias expresiones lógicas en una única expresión. En Python, los operadores lógicos son `and`, `or` y `not`, bien como las palabras clave `if`, `elif` e `else`."
      ],
      "metadata": {
        "id": "Z_dgAoHXJbzB"
      }
    },
    {
      "cell_type": "markdown",
      "source": [
        "> Operadores lógicos más comunes\n",
        "\n",
        "|a|b|AND|OR|NOT|\n",
        "|-|-|-|-|-|\n",
        "|0|0|0|0|1\n",
        "|0|1|0|1|-\n",
        "|1|0|0|1|-\n",
        "|1|1|1|1|0\n"
      ],
      "metadata": {
        "id": "2E5aUogf-49u"
      }
    },
    {
      "cell_type": "code",
      "source": [
        "v = True\n",
        "f = False\n",
        "print(f'V and V: {v and v}')\n",
        "print(f'V and F: {v and f}')\n",
        "print(f'F and V: {f and v}')\n",
        "print(f'F and F: {f and f}')\n"
      ],
      "metadata": {
        "id": "DFKmpvmS-Pa6",
        "colab": {
          "base_uri": "https://localhost:8080/"
        },
        "outputId": "aa3fb789-2e9a-4056-f59b-29ebf5429bfc"
      },
      "execution_count": null,
      "outputs": [
        {
          "output_type": "stream",
          "name": "stdout",
          "text": [
            "V and V: True\n",
            "V and F: False\n",
            "F and V: False\n",
            "F and F: False\n"
          ]
        }
      ]
    },
    {
      "cell_type": "code",
      "source": [
        "if v and v:\n",
        " print('Verdadero')\n",
        "else:\n",
        " print('Falso')\n"
      ],
      "metadata": {
        "id": "W5BIrpOD-PeI",
        "colab": {
          "base_uri": "https://localhost:8080/"
        },
        "outputId": "445a2cb4-c1de-47af-bfe4-e1893736840b"
      },
      "execution_count": null,
      "outputs": [
        {
          "output_type": "stream",
          "name": "stdout",
          "text": [
            "Verdadero\n"
          ]
        }
      ]
    },
    {
      "cell_type": "code",
      "source": [
        "if f and f:\n",
        " print('Verdadero')\n",
        "else:\n",
        " print('Falso')\n"
      ],
      "metadata": {
        "id": "fpDhYxq4-PiM",
        "colab": {
          "base_uri": "https://localhost:8080/"
        },
        "outputId": "cb02c129-1b3a-458a-fc98-2dfd049f4012"
      },
      "execution_count": null,
      "outputs": [
        {
          "output_type": "stream",
          "name": "stdout",
          "text": [
            "Falso\n"
          ]
        }
      ]
    },
    {
      "cell_type": "code",
      "source": [
        "if f or f:\n",
        " print('Verdadero')\n",
        "else:\n",
        " print('Falso')\n"
      ],
      "metadata": {
        "colab": {
          "base_uri": "https://localhost:8080/"
        },
        "id": "_aqeNCATrML6",
        "outputId": "0a40f9f3-7603-40aa-8943-37ea47963a78"
      },
      "execution_count": null,
      "outputs": [
        {
          "output_type": "stream",
          "name": "stdout",
          "text": [
            "Falso\n"
          ]
        }
      ]
    },
    {
      "cell_type": "markdown",
      "source": [
        "### `IN`\n",
        "\n",
        "Es usado para verificar si un elemento está presente en una lista, tupla u otra colección de conjunto. La expresión `x in y` se evalúa como `True` si el elemento `x` esta presente na variávelen la variable de conjunto `y`, y como `False` en caso contrario."
      ],
      "metadata": {
        "id": "w7EXG1dhWtja"
      }
    },
    {
      "cell_type": "markdown",
      "source": [
        "Podemos verificarlo con variables de texto.\n",
        "\n",
        "---\n",
        "\n",
        "**Situación:**\n",
        "\n",
        "En la escuela nos entregaron una lista con nombres de estudiantes que fueron aprobados según el promedio del semestre, pero es necesario verificar si algunos nombres están en esa lista para confirmar que los datos estén correctos.\n",
        "\n",
        "La lista distribuida puede ser observada a continuación:\n",
        "\n",
        "```\n",
        "lista = 'Juan Pérez, María González, Pedro Rodríguez, Ana López, Carlos Martínez,\n",
        "    Laura Sánchez, José García, Elena Fernández, Luis Morales, Carmen Torres,\n",
        "    David Ruiz, Isabel Ramírez, Javier Díaz, Sara Herrera, Miguel Castro,\n",
        "    Patricia Ortega, Francisco Vargas, Marta Jiménez, Manuel Medina, Rosa Molina,\n",
        "    Alejandro Silva, Silvia Ruiz, Andrés Torres, Natalia Soto, Diego Guerrero,\n",
        "    Paula Ríos, Ricardo Navarro, Alicia Cordero, Carlos Vidal, Lorena Gómez'\n",
        "```\n",
        "\n",
        "Los nombres que necesitas verificar son los siguientes:\n",
        "\n",
        "```\n",
        "nombre_1 = 'Miguel Castro'\n",
        "nombre_2 = 'Marcelo Noguera'\n",
        "```"
      ],
      "metadata": {
        "id": "enJNp6JenQbq"
      }
    },
    {
      "cell_type": "code",
      "source": [
        "nombre_1 = 'Miguel Castro'\n",
        "nombre_2 = 'Marcelo Noguera'"
      ],
      "metadata": {
        "id": "gPPN9BCT-Mki"
      },
      "execution_count": null,
      "outputs": []
    },
    {
      "cell_type": "code",
      "source": [
        "lista = ['Juan Pérez',' María González', 'Pedro Rodríguez', 'Ana López', 'Carlos Martínez', 'Laura Sánchez','José García', 'Elena Fernández', 'Luis Morales', 'Carmen Torres','David Ruiz','Isabel Ramírez', 'Javier Díaz', 'Sara Herrera', 'Miguel Castro',\n",
        "    'Patricia Ortega', 'Francisco Vargas', 'Marta Jiménez', 'Manuel Medina', 'Rosa Molina','Alejandro Silva', 'Silvia Ruiz', 'Andrés Torres', 'Natalia Soto', 'Diego Guerrero',\n",
        "    'Paula Ríos', 'Ricardo Navarro', 'Alicia Cordero', 'Carlos Vidal', 'Lorena Gómez']\n",
        "\n"
      ],
      "metadata": {
        "id": "GINbG3Fa-Mnb"
      },
      "execution_count": null,
      "outputs": []
    },
    {
      "cell_type": "code",
      "source": [
        "if nombre_1 in lista:\n",
        "  print(f'{nombre_1} está en la lista.')\n",
        "else:\n",
        "  print(f'{nombre_1} no está en la lista.')\n",
        "\n",
        "if nombre_2 in lista:\n",
        "  print(f'{nombre_2} está en la lista.')\n",
        "else:\n",
        "  print(f'{nombre_2} no está en la lista.')\n"
      ],
      "metadata": {
        "id": "hk-RhNRT-Mp7",
        "colab": {
          "base_uri": "https://localhost:8080/"
        },
        "outputId": "e64e19e7-372f-48d3-d828-0bee5732e9eb"
      },
      "execution_count": null,
      "outputs": [
        {
          "output_type": "stream",
          "name": "stdout",
          "text": [
            "Miguel Castro está en la lista.\n",
            "Marcelo Noguera no está en la lista.\n"
          ]
        }
      ]
    },
    {
      "cell_type": "code",
      "source": [
        "lista_de_frutas = [\"manzana\", \"banana\"]\n",
        "\n",
        "if \"naranja\" not in lista_de_frutas:\n",
        "    print(\"La naranja no está en la lista.\")\n",
        "\n",
        "if not lista_de_frutas:  # Una lista vacía se evalúa como False\n",
        "    print(\"La lista de frutas está vacía.\")\n",
        "else:\n",
        "    print(\"La lista de frutas tiene elementos.\")\n"
      ],
      "metadata": {
        "colab": {
          "base_uri": "https://localhost:8080/"
        },
        "id": "5RGuMvMJtUje",
        "outputId": "87b3eacb-b18a-4633-ffd0-93460b08b332"
      },
      "execution_count": null,
      "outputs": [
        {
          "output_type": "stream",
          "name": "stdout",
          "text": [
            "La naranja no está en la lista.\n",
            "La lista de frutas tiene elementos.\n"
          ]
        }
      ]
    },
    {
      "cell_type": "code",
      "source": [
        "#Entrenando la programación\n",
        "# 1 - Escribe un programa que pida a la persona usuaria que proporcione dos números y muestre el número más grande.\n",
        "numero1 = int(input(\"Ingrese el primer número: \"))\n",
        "numero2 = int(input(\"Ingrese el segundo número: \"))\n",
        "\n",
        "if numero1 > numero2:\n",
        "    print(f\"El número más grande es: {numero1}\")\n",
        "else:\n",
        "    print(f\"El número más grande es: {numero2}\")\n",
        "\n"
      ],
      "metadata": {
        "colab": {
          "base_uri": "https://localhost:8080/"
        },
        "id": "DjNKj76rv9fm",
        "outputId": "79ef9314-46e8-483a-b472-26ba59ebfa2b"
      },
      "execution_count": null,
      "outputs": [
        {
          "output_type": "stream",
          "name": "stdout",
          "text": [
            "Ingrese el primer número: 55\n",
            "Ingrese el segundo número: 45\n",
            "El número más grande es: 55\n"
          ]
        }
      ]
    },
    {
      "cell_type": "code",
      "source": [
        "#2 - Escribe un programa que solicite el porcentaje de crecimiento de producción de una empresa e informe si hubo un crecimiento (porcentaje positivo) o una disminución (porcentaje negativo).\n",
        "porcentaje_crecimiento = float(input(\"Ingrese el porcentaje de crecimiento de producción: \"))\n",
        "\n",
        "if porcentaje_crecimiento > 0:\n",
        "   print(\"Hubo un crecimiento en la producción.\")\n",
        "else:\n",
        "   print(\"Hubo una disminución en la producción.\")\n"
      ],
      "metadata": {
        "colab": {
          "base_uri": "https://localhost:8080/"
        },
        "id": "ksHvVicNv9Yn",
        "outputId": "f1293a93-d33c-4446-ed19-b2e283a4d408"
      },
      "execution_count": null,
      "outputs": [
        {
          "output_type": "stream",
          "name": "stdout",
          "text": [
            "Ingrese el porcentaje de crecimiento de producción: -1\n",
            "Hubo una disminución en la producción.\n"
          ]
        }
      ]
    },
    {
      "cell_type": "code",
      "source": [
        "#3 - Escribe un programa que determine si una letra proporcionada por la persona usuaria es una vocal o una consonante.\n",
        "letra = input(\"Ingrese una letra: \")\n",
        "\n",
        "if letra.lower() in ['a', 'e', 'i', 'o', 'u']:\n",
        "    print(\"Es una vocal.\")\n",
        "else:\n",
        "    print(\"Es una consonante.\")"
      ],
      "metadata": {
        "colab": {
          "base_uri": "https://localhost:8080/"
        },
        "id": "A_jc6Hx4v9Su",
        "outputId": "f2416299-1753-4f32-aa8b-471d4d098d85"
      },
      "execution_count": null,
      "outputs": [
        {
          "output_type": "stream",
          "name": "stdout",
          "text": [
            "Ingrese una letra: a\n",
            "Es una vocal.\n"
          ]
        }
      ]
    },
    {
      "cell_type": "code",
      "source": [
        "vocal = ['a', 'e', 'i', 'o', 'u']\n",
        "letra = input(\"Ingrese una letra: \")\n",
        "\n",
        "if letra.lower() in vocal: # si letra se encuentra en vocal que es la lista\n",
        "    print(\"Es una vocal.\")\n",
        "else:\n",
        "    print(\"Es una consonante.\")\n",
        "\n"
      ],
      "metadata": {
        "colab": {
          "base_uri": "https://localhost:8080/"
        },
        "id": "DH0_lPxiv9NX",
        "outputId": "a8ee33e6-9c6d-4aa7-c967-130715cbe4bb"
      },
      "execution_count": null,
      "outputs": [
        {
          "output_type": "stream",
          "name": "stdout",
          "text": [
            "Ingrese una letra: a\n",
            "Es una vocal.\n"
          ]
        }
      ]
    },
    {
      "cell_type": "code",
      "source": [
        "#4 - Escribe un programa que lea valores promedio de precios de un modelo de automóvil durante 3 años consecutivos y muestre el valor más alto y más bajo entre esos tres años.\n",
        "precios = []\n",
        "\n",
        "for año in range(3):\n",
        "    print(f\"Año {año + 1}:\")\n",
        "\n",
        "    precio = float(input(f\"Ingrese el precio del automóvil durante el año {año + 1}: \"))\n",
        "    precios.append(precio)\n",
        "\n",
        "valor_maximo = max(precios)\n",
        "valor_minimo = min(precios)\n",
        "\n",
        "print(f\"El valor más alto fue: {valor_maximo}\")\n",
        "print(f\"El valor más bajo fue: {valor_minimo}\")\n"
      ],
      "metadata": {
        "colab": {
          "base_uri": "https://localhost:8080/"
        },
        "id": "NoaQGyUvv9HH",
        "outputId": "82411c7f-cc05-4b4e-acad-f7b67ab2bdfb"
      },
      "execution_count": null,
      "outputs": [
        {
          "output_type": "stream",
          "name": "stdout",
          "text": [
            "Año 1:\n",
            "Ingrese el precio del automóvil durante el año 1: 987\n",
            "Año 2:\n",
            "Ingrese el precio del automóvil durante el año 2: 654\n",
            "Año 3:\n",
            "Ingrese el precio del automóvil durante el año 3: 987\n",
            "El valor más alto fue: 987.0\n",
            "El valor más bajo fue: 654.0\n"
          ]
        }
      ]
    },
    {
      "cell_type": "code",
      "source": [
        "#5 - Escribe un programa que pregunte sobre el precio de tres productos e indique cuál es el producto más barato para comprar.\n",
        "precios = []\n",
        "\n",
        "for producto in range(3):\n",
        "    print(f\"Producto {producto + 1}:\")\n",
        "    precio = float(input(f\"Ingrese el precio del producto {producto + 1}: \"))\n",
        "    precios.append(precio)\n",
        "\n",
        "#valor_maximo = max(precios)\n",
        "valor_minimo = min(precios)\n",
        "\n",
        "print(f\"Producto mas barato para comprar: {valor_minimo}\")\n",
        "\n",
        "\n"
      ],
      "metadata": {
        "colab": {
          "base_uri": "https://localhost:8080/"
        },
        "id": "P6DwnpzTv9A_",
        "outputId": "1b5bb51d-abaf-47ee-dbee-3c94306adb93"
      },
      "execution_count": null,
      "outputs": [
        {
          "output_type": "stream",
          "name": "stdout",
          "text": [
            "Producto 1:\n",
            "Ingrese el precio del producto 1: 789\n",
            "Producto 2:\n",
            "Ingrese el precio del producto 2: 456\n",
            "Producto 3:\n",
            "Ingrese el precio del producto 3: 55\n",
            "Producto mas barato para comprar: 55.0\n"
          ]
        }
      ]
    },
    {
      "cell_type": "code",
      "source": [
        "#6 - Escribe un programa que lea tres números y los muestre en orden descendente.\n",
        "listanumero = []\n",
        "\n",
        "for numero in range(3):\n",
        "    num = float(input(f\"Ingrese numero : \"))\n",
        "    listanumero.append(num)\n",
        "\n",
        "listanumero.sort(reverse=True)  # Ordena la lista de mayor a menor\n",
        "print(listanumero)\n",
        "\n"
      ],
      "metadata": {
        "colab": {
          "base_uri": "https://localhost:8080/"
        },
        "id": "TLS2vsUJv862",
        "outputId": "ebed11b1-2b54-44b9-8c71-4990de7c8ad1"
      },
      "execution_count": null,
      "outputs": [
        {
          "output_type": "stream",
          "name": "stdout",
          "text": [
            "Ingrese numero : 8\n",
            "Ingrese numero : 4\n",
            "Ingrese numero : 56\n",
            "[56.0, 8.0, 4.0]\n"
          ]
        }
      ]
    },
    {
      "cell_type": "code",
      "source": [
        "#7 -Escribe un programa que pregunte en qué turno estudia la persona usuaria (\"mañana\", \"tarde\" o \"noche\") y muestre el mensaje \"¡Buenos Días!\", \"¡Buenas Tardes!\", \"¡Buenas Noches!\" o \"Valor Inválido!\", según el caso.\n",
        "turno = input(\"¿En qué turno estudias? (mañana, tarde o noche): \")\n",
        "if turno.lower() == \"mañana\":\n",
        "    print(\"¡Buenos Días!\")\n",
        "elif turno.lower() == \"tarde\":\n",
        "    print(\"¡Buenas Tardes!\")\n",
        "elif turno.lower() == \"noche\":\n",
        "    print(\"¡Buenas Noches!\")\n",
        "else:\n",
        "    print(\"Ingrese respuesta solicitada!!\")\n",
        "\n"
      ],
      "metadata": {
        "colab": {
          "base_uri": "https://localhost:8080/"
        },
        "id": "8XoKWGkav80f",
        "outputId": "beb59875-4165-47b7-caf0-c43c4db32ca9"
      },
      "execution_count": null,
      "outputs": [
        {
          "output_type": "stream",
          "name": "stdout",
          "text": [
            "¿En qué turno estudias? (mañana, tarde o noche): dia\n",
            "Ingrese respuesta solicitada!!\n"
          ]
        }
      ]
    },
    {
      "cell_type": "code",
      "source": [
        "#8 - Escribe un programa que solicite un número entero a la persona usuaria y determine si es par o impar. Pista: Puedes usar el operador módulo (%).\n",
        "numero = int(input(\"Ingrese una numero: \"))\n",
        "if numero % 2 == 0:\n",
        "    print(f\"{numero} es un numero par.\")\n",
        "else:\n",
        "    print(f\"{numero} es un numero impar.\")\n",
        "\n",
        "\n",
        "\n"
      ],
      "metadata": {
        "colab": {
          "base_uri": "https://localhost:8080/"
        },
        "id": "NeIub-0kv8uA",
        "outputId": "a8782424-06af-464f-fc2e-fbcf18b1703a"
      },
      "execution_count": null,
      "outputs": [
        {
          "output_type": "stream",
          "name": "stdout",
          "text": [
            "Ingrese una numero: 12\n",
            "12 es un numero par.\n"
          ]
        }
      ]
    },
    {
      "cell_type": "code",
      "source": [
        "#9 - Escribe un programa que pida un número a la persona usuaria y le informe si es entero o decimal.\n",
        "numero = float(input(\"Ingrese un numero: \"))\n",
        "if numero.is_integer():\n",
        "    print(f\"{numero} es un numero entero.\")\n",
        "else:\n",
        "    print(f\"{numero} es un numero decimal.\")\n"
      ],
      "metadata": {
        "id": "Tvpg85O1v8nY"
      },
      "execution_count": null,
      "outputs": []
    },
    {
      "cell_type": "code",
      "source": [
        "#Momento de los proyectos\n",
        "#10 - Un programa debe ser escrito para leer dos números y luego preguntar a la persona usuaria qué operación desea realizar.\n",
        "#El resultado de la operación debe incluir información sobre el número, si es par o impar, positivo o negativo, e entero o decimal.\n",
        "numero1 = float(input(\"Ingrese el primer numero: \"))\n",
        "numero2 = float(input(\"Ingrese el segundo numero: \"))\n",
        "\n",
        "pregunta = input(\"¿Qué operación desea realizar? (+ , - , * , /): \")\n",
        "\n",
        "if pregunta == '+':\n",
        "    resultado = numero1 + numero2\n",
        "    print(f\"El resultado de la suma es: {resultado}\")\n",
        "elif pregunta == '-':\n",
        "    resultado = numero1 - numero2\n",
        "    print(f\"El resultado de la resta es: {resultado}\")\n",
        "elif pregunta == '*':\n",
        "    resultado = numero1 * numero2\n",
        "    print(f\"El resultado de la multiplicacion es: {resultado}\")\n",
        "elif pregunta == '/':\n",
        "    resultado = numero1 / numero2\n",
        "    print(f\"El resultado de la division es: {resultado}\")\n",
        "\n",
        "if resultado.is_integer():\n",
        "    print(f\"{resultado} es un numero entero.\")\n",
        "else:\n",
        "    print(f\"{resultado} es un numero decimal.\")\n",
        "\n",
        "if resultado % 2 == 0:\n",
        "    print(f\"{resultado} es un numero par.\")\n",
        "else:\n",
        "    print(f\"{resultado} es un numero impar.\")\n",
        "\n",
        "if resultado > 0:\n",
        "    print(f\"{resultado} es un numero positivo.\")\n",
        "else:\n",
        "    print(f\"{resultado} es un numero negativo.\")\n"
      ],
      "metadata": {
        "colab": {
          "base_uri": "https://localhost:8080/"
        },
        "id": "ins5wi2Ov8fm",
        "outputId": "f9975143-3520-4c97-c1b3-404f135e7afa"
      },
      "execution_count": null,
      "outputs": [
        {
          "output_type": "stream",
          "name": "stdout",
          "text": [
            "Ingrese el primer numero: 55\n",
            "Ingrese el segundo numero: 55\n",
            "¿Qué operación desea realizar? (+ , - , * , /): *\n",
            "El resultado de la multiplicacion es: 3025.0\n",
            "3025.0 es un numero entero.\n",
            "3025.0 es un numero impar.\n",
            "3025.0 es un numero positivo.\n"
          ]
        }
      ]
    },
    {
      "cell_type": "code",
      "source": [
        "#11 - Escribe un programa que pida a la persona usuaria tres números que representan los lados de un triángulo.\n",
        "#     El programa debe informar si los valores pueden utilizarse para formar un triángulo y, en caso afirmativo,\n",
        "#     si es equilátero, isósceles o escaleno. Ten en cuenta algunas sugerencias:\n",
        "\n",
        "# Tres lados forman un triángulo cuando la suma de cualesquiera dos lados es mayor que el tercero;\n",
        "# Triángulo Equilátero: tres lados iguales;\n",
        "# Triángulo Isósceles: dos lados iguales;\n",
        "# Triángulo Escaleno: tres lados diferentes.\n",
        "\n",
        "lado1 = float(input(\"Ingrese el primer numero: \"))\n",
        "lado2 = float(input(\"Ingrese el segundo numero: \"))\n",
        "lado3 = float(input(\"Ingrese el tercer numero: \"))\n",
        "\n",
        "if (lado1 + lado2 > lado3) and (lado2 + lado3 > lado1) and (lado1 + lado3 > lado2): # Verificamos si puede formar un triángulo\n",
        "    print('¡Los valores pueden formar un triángulo!')\n",
        "\n",
        "    if lado1 == lado2 == lado3:\n",
        "     print(\"Es un triangulo equilatero.\")\n",
        "    elif lado1 == lado2 or lado1 == lado3 or lado2 == lado3:\n",
        "     print(\"Es un triangulo isoceles.\")\n",
        "    else:\n",
        "     print(\"Es un triangulo escaleno.\")\n",
        "else:\n",
        "    print('¡Los valores no pueden formar un triángulo!')\n",
        "\n",
        "\n"
      ],
      "metadata": {
        "colab": {
          "base_uri": "https://localhost:8080/"
        },
        "id": "oTMdoWGyv8W_",
        "outputId": "b1c07acb-56f8-4a06-c83a-ad22cf36ef57"
      },
      "execution_count": null,
      "outputs": [
        {
          "output_type": "stream",
          "name": "stdout",
          "text": [
            "Ingrese el primer numero: 8\n",
            "Ingrese el segundo numero: 9\n",
            "Ingrese el tercer numero: 4\n",
            "¡Los valores pueden formar un triángulo!\n",
            "Es un triangulo escaleno.\n"
          ]
        }
      ]
    },
    {
      "cell_type": "code",
      "source": [
        "#11 - Escribe un programa que pida a la persona usuaria tres números que representan los lados de un triángulo.\n",
        "#     El programa debe informar si los valores pueden utilizarse para formar un triángulo y, en caso afirmativo,\n",
        "#     si es equilátero, isósceles o escaleno. Ten en cuenta algunas sugerencias:\n",
        "\n",
        "# Tres lados forman un triángulo cuando la suma de cualesquiera dos lados es mayor que el tercero;\n",
        "# Triángulo Equilátero: tres lados iguales;\n",
        "# Triángulo Isósceles: dos lados iguales;\n",
        "# Triángulo Escaleno: tres lados diferentes.\n",
        "\n",
        "lado1 = float(input(\"Ingrese el primer numero: \"))\n",
        "lado2 = float(input(\"Ingrese el segundo numero: \"))\n",
        "lado3 = float(input(\"Ingrese el tercer numero: \"))\n",
        "\n",
        "if (lado1 + lado2 > lado3) and (lado2 + lado3 > lado1) and (lado1 + lado3 > lado2): # Verificamos si puede formar un triángulo\n",
        "    print('¡Los valores pueden formar un triángulo!')\n",
        "\n",
        "    if lado1 == lado2 == lado3:\n",
        "     print(\"Es un triangulo equilatero.\")\n",
        "    elif lado1 == lado2 or lado1 == lado3 or lado2 == lado3:\n",
        "     print(\"Es un triangulo isoceles.\")\n",
        "    else:\n",
        "     print(\"Es un triangulo escaleno.\")\n",
        "else:\n",
        "    print('¡Los valores no pueden formar un triángulo!')\n",
        "\n",
        "\n"
      ],
      "metadata": {
        "colab": {
          "base_uri": "https://localhost:8080/"
        },
        "outputId": "b1c07acb-56f8-4a06-c83a-ad22cf36ef57",
        "id": "wHPFlAB0vY8t"
      },
      "execution_count": null,
      "outputs": [
        {
          "output_type": "stream",
          "name": "stdout",
          "text": [
            "Ingrese el primer numero: 8\n",
            "Ingrese el segundo numero: 9\n",
            "Ingrese el tercer numero: 4\n",
            "¡Los valores pueden formar un triángulo!\n",
            "Es un triangulo escaleno.\n"
          ]
        }
      ]
    },
    {
      "cell_type": "code",
      "source": [
        "#12 - Un establecimiento está vendiendo combustibles con descuentos variables. Para el etanol, si la cantidad comprada es de hasta 15 litros,\n",
        "#el descuento será del 2% por litro. En caso contrario, será del 4% por litro. Para el diésel, si la cantidad comprada es de hasta 15 litros,\n",
        "#el descuento será del 3% por litro. En caso contrario, será del 5% por litro. El precio por litro de diésel es de R$ 2,00 y el precio por litro\n",
        "#de etanol es de R$ 1,70. Escribe un programa que lea la cantidad de litros vendidos y el tipo de combustible (E para etanol y D para diésel) y\n",
        "#calcule el valor a pagar por el cliente. Ten en cuenta algunas sugerencias:\n",
        "\n",
        " #   El valor del descuento será el producto del precio por litro, la cantidad de litros y el valor del descuento.\n",
        " #   El valor a pagar por un cliente será el resultado de la multiplicación del precio por litro por la cantidad de litros menos el valor\n",
        " #   del descuento resultante del cálculo.\n",
        "\n",
        "litros_etanol = float(input(\"Ingrese la cantidad de litros de etanol: \"))\n",
        "litros_diesel = float(input(\"Ingrese la cantidad de litros de diesel: \"))\n",
        "\n",
        "precio_etanol = 1.70\n",
        "precio_diesel = 2.00\n",
        "\n",
        "if litros_etanol <= 15:\n",
        "    descuento_etanol = 0.02\n",
        "else:\n",
        "    descuento_etanol = 0.04\n",
        "\n",
        "if litros_diesel <= 15:\n",
        "    descuento_diesel = 0.03\n",
        "else:\n",
        "    descuento_diesel = 0.05\n",
        "\n",
        "valor_a_pagar_etanol = litros_etanol * precio_etanol * (1 - descuento_etanol)\n",
        "valor_a_pagar_diesel = litros_diesel * precio_diesel * (1 - descuento_diesel)\n",
        "\n",
        "print(f\"Valor a pagar por etanol: {valor_a_pagar_etanol}\")\n",
        "print(f\"Valor a pagar por diesel: {valor_a_pagar_diesel}\")\n",
        "\n",
        "\n",
        "\n"
      ],
      "metadata": {
        "id": "yL4owT9kv8OA",
        "colab": {
          "base_uri": "https://localhost:8080/"
        },
        "outputId": "80cb91db-7269-4572-f668-8095523301f1"
      },
      "execution_count": null,
      "outputs": [
        {
          "output_type": "stream",
          "name": "stdout",
          "text": [
            "Ingrese la cantidad de litros de etanol: 200\n",
            "Ingrese la cantidad de litros de diesel: 500\n",
            "Valor a pagar por etanol: 326.4\n",
            "Valor a pagar por diesel: 950.0\n"
          ]
        }
      ]
    },
    {
      "cell_type": "code",
      "source": [
        "#12 Version 2- Un establecimiento está vendiendo combustibles con descuentos variables. Para el etanol, si la cantidad comprada es de hasta 15 litros,\n",
        "#el descuento será del 2% por litro. En caso contrario, será del 4% por litro. Para el diésel, si la cantidad comprada es de hasta 15 litros,\n",
        "#el descuento será del 3% por litro. En caso contrario, será del 5% por litro. El precio por litro de diésel es de R$ 2,00 y el precio por litro\n",
        "#de etanol es de R$ 1,70. Escribe un programa que lea la cantidad de litros vendidos y el tipo de combustible (E para etanol y D para diésel) y\n",
        "#calcule el valor a pagar por el cliente. Ten en cuenta algunas sugerencias:\n",
        "\n",
        " #   El valor del descuento será el producto del precio por litro, la cantidad de litros y el valor del descuento.\n",
        " #   El valor a pagar por un cliente será el resultado de la multiplicación del precio por litro por la cantidad de litros menos el valor\n",
        " #   del descuento resultante del cálculo.\n",
        "\n",
        "precio_etanol = 1.70\n",
        "precio_diesel = 2.00\n",
        "\n",
        "pregunta = input(\"¿Elija la opción (E) Etanol o (D) Etanol? : \").upper()\n",
        "\n",
        "if pregunta == 'E':\n",
        "\n",
        "    print(f\"Producto Etanol\")\n",
        "    litros_etanol = float(input(\"Ingrese la cantidad de litros de etanol: \"))\n",
        "\n",
        "    if litros_etanol <= 15:\n",
        "        descuento_etanol = 0.02\n",
        "    else:\n",
        "        descuento_etanol = 0.04\n",
        "\n",
        "    Total_a_pagar_et = litros_etanol * precio_etanol * (1 - descuento_etanol)\n",
        "\n",
        "    print(f\"-------------------------------------------\")\n",
        "    print(f\"Tipo de combustible: Etanol\")\n",
        "    print(f\"Total litros vendidos: {litros_etanol}\")\n",
        "    print(f\"Valor a pagar por etanol: {Total_a_pagar_et}\")\n",
        "    print(f\"--------------------------------------------\")\n",
        "\n",
        "elif pregunta == 'D':\n",
        "    print(f\"Producto Disel\")\n",
        "    litros_diesel = float(input(\"Ingrese la cantidad de litros de diesel: \"))\n",
        "\n",
        "    if litros_diesel <= 15:\n",
        "        descuento_diesel = 0.03\n",
        "    else:\n",
        "        descuento_diesel = 0.05\n",
        "\n",
        "    Total_a_pagar_di = litros_diesel * precio_diesel * (1 - descuento_diesel)\n",
        "\n",
        "    print(f\"Tipo de combustible: Diesel\")\n",
        "    print(f\"Total litros vendidos: {litros_diesel}\")\n",
        "    print(f\"Valor a pagar por diesel: {Total_a_pagar_di}\")\n",
        "\n",
        "else:\n",
        "    print(\"Ingrese una opción valida.\")\n",
        "\n"
      ],
      "metadata": {
        "colab": {
          "base_uri": "https://localhost:8080/"
        },
        "id": "HCuars310PBC",
        "outputId": "c87306f0-624b-4e7e-b5ca-a31dc82beada"
      },
      "execution_count": null,
      "outputs": [
        {
          "output_type": "stream",
          "name": "stdout",
          "text": [
            "¿Elija la opción (E) Etanol o (D) Etanol? : e\n",
            "Producto Etanol\n",
            "Ingrese la cantidad de litros de etanol: 250000\n",
            "-------------------------------------------\n",
            "Tipo de combustible: Etanol\n",
            "Total litros vendidos: 250000.0\n",
            "Valor a pagar por etanol: 408000.0\n",
            "--------------------------------------------\n"
          ]
        }
      ]
    },
    {
      "cell_type": "code",
      "source": [
        "def calcular_total_con_descuento(tipo_combustible, precio_por_litro, cantidad_litros, descuento_bajo, descuento_alto, umbral_descuento=15):\n",
        "    \"\"\"Calcula el precio total a pagar con descuento para un tipo de combustible.\n",
        "\n",
        "    Args:\n",
        "        tipo_combustible (str): Nombre del combustible (ej: \"Etanol\", \"Diesel\").\n",
        "        precio_por_litro (float): Precio por litro del combustible.\n",
        "        cantidad_litros (float): Cantidad de litros comprados.\n",
        "        descuento_bajo (float): Descuento para cantidades menores o iguales al umbral.\n",
        "        descuento_alto (float): Descuento para cantidades mayores al umbral.\n",
        "        umbral_descuento (int, optional): Cantidad de litros a partir de la cual se aplica el descuento alto. Defaults to 15.\n",
        "\n",
        "    Returns:\n",
        "        float: El precio total a pagar con el descuento aplicado.\n",
        "    \"\"\"\n",
        "    if cantidad_litros <= umbral_descuento:\n",
        "        descuento = descuento_bajo\n",
        "    else:\n",
        "        descuento = descuento_alto\n",
        "\n",
        "    total_a_pagar = cantidad_litros * precio_por_litro * (1 - descuento)\n",
        "\n",
        "    print(f\"-------------------------------------------\")\n",
        "    print(f\"Tipo de combustible: {tipo_combustible}\")\n",
        "    print(f\"Total litros vendidos: {cantidad_litros}\")\n",
        "    print(f\"Valor a pagar por {tipo_combustible.lower()}: {total_a_pagar:.2f}\")\n",
        "    print(f\"--------------------------------------------\")\n",
        "\n",
        "    return total_a_pagar\n",
        "\n",
        "precio_etanol = 1.70\n",
        "precio_diesel = 2.00\n",
        "\n",
        "pregunta = input(\"¿Elija la opción (E) Etanol o (D) Diesel? : \").upper()\n",
        "\n",
        "if pregunta == 'E':\n",
        "    print(f\"Producto Etanol\")\n",
        "    litros_etanol = float(input(\"Ingrese la cantidad de litros de etanol: \"))\n",
        "    calcular_total_con_descuento(\"Etanol\", precio_etanol, litros_etanol, 0.02, 0.04)\n",
        "\n",
        "elif pregunta == 'D':\n",
        "    print(f\"Producto Diesel\")\n",
        "    litros_diesel = float(input(\"Ingrese la cantidad de litros de diesel: \"))\n",
        "    calcular_total_con_descuento(\"Diesel\", precio_diesel, litros_diesel, 0.03, 0.05)\n",
        "\n",
        "else:\n",
        "    print(\"Ingrese una opción valida.\")"
      ],
      "metadata": {
        "colab": {
          "base_uri": "https://localhost:8080/"
        },
        "id": "sZzDEuR553FI",
        "outputId": "e5a61690-1279-44cc-946c-365e7a7d3744"
      },
      "execution_count": null,
      "outputs": [
        {
          "output_type": "stream",
          "name": "stdout",
          "text": [
            "¿Elija la opción (E) Etanol o (D) Diesel? : e\n",
            "Producto Etanol\n",
            "Ingrese la cantidad de litros de etanol: 5000\n",
            "-------------------------------------------\n",
            "Tipo de combustible: Etanol\n",
            "Total litros vendidos: 5000.0\n",
            "Valor a pagar por etanol: 8160.00\n",
            "--------------------------------------------\n"
          ]
        }
      ]
    },
    {
      "cell_type": "code",
      "source": [
        "#13 - En una empresa de venta de bienes raíces, debes crear un código que analice los datos de ventas anuales para ayudar a la dirección\n",
        "#      en la toma de decisiones. El código debe recopilar los datos de cantidad de ventas durante los años 2022 y 2023 y calcular la variación\n",
        "#      porcentual. A partir del valor de la variación, se deben proporcionar las siguientes sugerencias:\n",
        "\n",
        "#    Para una variación superior al 20%: bonificación para el equipo de ventas.\n",
        "#    Para una variación entre el 2% y el 20%: pequeña bonificación para el equipo de ventas.\n",
        "#    Para una variación entre el 2% y el -10%: planificación de políticas de incentivo a las ventas.\n",
        "#    Para bonificaciones inferiores al -10%: recorte de gastos.\n",
        "\n",
        "\n",
        "# valor_2022 = 9500\n",
        "# valor_2023 = 15620\n",
        "\n",
        "valor_2023 = float(input(\"Ingrese el valor 2023: \"))\n",
        "valor_2022 = float(input(\"Ingrese el valor 2022: \"))\n",
        "\n",
        "variacion = ((valor_2023 - valor_2022) / valor_2022) * 100 # Calculo variación porcentual\n",
        "\n",
        "# Imprimir el resultado\n",
        "print(f\"El valor en 2022 fue: {valor_2022}\")\n",
        "print(f\"El valor en 2023 fue: {valor_2023}\")\n",
        "print(f\"La variación porcentual es: {variacion:.2f}%\")\n",
        "\n",
        "if variacion > 20:\n",
        "    print(\"Bonificación para el equipo de ventas.\")\n",
        "elif 2 <= variacion <= 20:\n",
        "    print(\"Pequeña bonificación para el equipo de ventas.\")\n",
        "elif -10 < variacion <= 2:\n",
        "    print(\"Planificación de políticas de incentivo a las ventas.\")\n",
        "\n",
        "else:\n",
        "     print(\"Recorte de gastos.\")\n",
        "\n",
        "\n"
      ],
      "metadata": {
        "colab": {
          "base_uri": "https://localhost:8080/"
        },
        "id": "FCXtXZ2kv8Dj",
        "outputId": "4ff488b4-df84-4c71-a4d7-ff15de82c526"
      },
      "execution_count": null,
      "outputs": [
        {
          "output_type": "stream",
          "name": "stdout",
          "text": [
            "Ingrese el valor 2023: 50000\n",
            "Ingrese el valor 2022: 45000\n",
            "El valor en 2022 fue: 45000.0\n",
            "El valor en 2023 fue: 50000.0\n",
            "La variación porcentual es: 11.11%\n",
            "Pequeña bonificación para el equipo de ventas.\n"
          ]
        }
      ]
    },
    {
      "cell_type": "markdown",
      "source": [
        "# Estructuras de repetición"
      ],
      "metadata": {
        "id": "aL1vJPewvwvz"
      }
    },
    {
      "cell_type": "markdown",
      "source": [
        "Cuando tenemos que ejecutar un mismo bloque de comandos durante varias ocasiones no es nada práctico hacerlo a mano.\n",
        "\n",
        "**Situación**: Nos fue solicitado obtener e imprimir el promedio de 2 notas de **3 estudantes**:"
      ],
      "metadata": {
        "id": "VcPfCa8d-84t"
      }
    },
    {
      "cell_type": "code",
      "source": [
        "nota_1 = float(input(\"Digita la primera nota \"))\n",
        "nota_2 = float(input(\"Digita la segunda nota \"))\n",
        "print(f\"El promedio estudiante 1 es: {(nota_1 + nota_2) / 2}\")\n",
        "\n",
        "nota_1 = float(input(\"Digita la primera nota \"))\n",
        "nota_2 = float(input(\"Digita la segunda nota \"))\n",
        "print(f\"El promedio estudiante 2 es: {(nota_1 + nota_2) / 2}\")\n",
        "\n",
        "nota_1 = float(input(\"Digita la primera nota \"))\n",
        "nota_2 = float(input(\"Digita la segunda nota \"))\n",
        "print(f\"El promedio estudiente 3 es: {(nota_1 + nota_2) / 2}\")\n",
        "\n"
      ],
      "metadata": {
        "id": "xcx21IGT9qA0",
        "colab": {
          "base_uri": "https://localhost:8080/"
        },
        "outputId": "c9c4ddb6-647f-4209-a584-cda5ad6a42bf"
      },
      "execution_count": null,
      "outputs": [
        {
          "output_type": "stream",
          "name": "stdout",
          "text": [
            "Digita la primera nota 7\n",
            "Digita la segunda nota 3\n",
            "El promedio estudiante 1 es: 5.0\n",
            "Digita la primera nota 6\n",
            "Digita la segunda nota 5\n",
            "El promedio estudiante 2 es: 5.5\n",
            "Digita la primera nota 7\n",
            "Digita la segunda nota 2\n",
            "El promedio estudiente 3 es: 4.5\n"
          ]
        }
      ]
    },
    {
      "cell_type": "markdown",
      "source": [
        "Ahora imaginemos una situación en que no son tan solo 3 estudiantes, sino 100 estudiantes. No sería nada interesante repetir el mismo código 100 veces, sino **ejecutar el mismo código 100 veces**.\n",
        "\n",
        "¡Esta estructura la logramos construir con lazos de repetición!"
      ],
      "metadata": {
        "id": "9puIuvUbFSFX"
      }
    },
    {
      "cell_type": "markdown",
      "source": [
        "## `WHILE`"
      ],
      "metadata": {
        "id": "uLO9-aE4-wx8"
      }
    },
    {
      "cell_type": "markdown",
      "source": [
        "El lazo `while` es una estructura de control de repetición en Python que permite ejecutar un bloque de código repetidamente mientras que una determinada condición sea verdadera. Su estructura es:\n",
        "\n",
        "\n",
        "\n",
        "```\n",
        "while condicion:\n",
        "    # bloque de codigo\n",
        "```\n",
        "\n",
        "Vamos a construir un ejemplo con un contador de 1 hasta 10.\n"
      ],
      "metadata": {
        "id": "rXZxDMiqHxm9"
      }
    },
    {
      "cell_type": "code",
      "source": [
        "contador = 1\n",
        "while contador <= 10:\n",
        "    print(contador)\n",
        "    contador += 1"
      ],
      "metadata": {
        "id": "miFHNqp29nOL"
      },
      "execution_count": null,
      "outputs": []
    },
    {
      "cell_type": "markdown",
      "source": [
        "Ahora vamos a colectar las notas y promedios de cada alumno dentro del lazo `while`. Haremos un ejemplo con 3 promedios."
      ],
      "metadata": {
        "id": "W4KZPBJuIrut"
      }
    },
    {
      "cell_type": "code",
      "source": [
        "contador = 1\n",
        "while contador <= 10:\n",
        "    # print(contador)\n",
        "    nota_1 = float(input(\"Digita la primera nota \"))\n",
        "    nota_2 = float(input(\"Digita la segunda nota \"))\n",
        "    nota_3 = float(input(\"Digita la tercera nota \"))\n",
        "    print(f\"El promedio estudiante {contador} es: {(nota_1 + nota_2 + nota_3) / 3}\")\n",
        "    contador += 1"
      ],
      "metadata": {
        "id": "9T5eCLFx9wk6"
      },
      "execution_count": null,
      "outputs": []
    },
    {
      "cell_type": "code",
      "source": [],
      "metadata": {
        "id": "P6E0_dW-9lZ9"
      },
      "execution_count": null,
      "outputs": []
    },
    {
      "cell_type": "markdown",
      "source": [
        "## `FOR`"
      ],
      "metadata": {
        "id": "WgAIaENMMfCP"
      }
    },
    {
      "cell_type": "markdown",
      "source": [
        "El lazo `for` es un tipo de estructura de control de flujo en Python que permite iterar sobre un conjunto de elementos. Su estructura es:\n",
        "\n",
        "\n",
        "\n",
        "```\n",
        "for elemento in conjunto:\n",
        "    # codigo a ser ejecutado para cada elemento\n",
        "```\n",
        "\n",
        "El lazo `for` itera sobre cada elemento del conjunto especificado y ejecuta el bloque de código dentro del lazo para cada elemento. Cuando el lazo llega al final del conjunto, este se interrumpe y el programa continúa la ejecución después del lazo.\n",
        "\n"
      ],
      "metadata": {
        "id": "HxrSZoRAMh-x"
      }
    },
    {
      "cell_type": "markdown",
      "source": [
        "El conjunto lo podemos generar con la función incorporada [`range()`](https://docs.python.org/3/library/functions.html#func-range). Se trata de una función capaz de generar una secuencia de números enteros. La estructura de esta función es:\n",
        "\n",
        "```\n",
        "range(inicio, fin, paso)\n",
        "```\n",
        "\n",
        "Según la documentación, `range()` genera una secuencia de números enteros a partir del valor del parámetro `inicio` hasta el valor del parámetro `fin`, de acuerdo con el valor del parámetro `paso`. Si `inicio` no es especificado, el valor por defecto es `0`. Si `paso` no es especificado, el valor por defecto es `1`.\n",
        "\n",
        "\n"
      ],
      "metadata": {
        "id": "6VgjyoQtPHBM"
      }
    },
    {
      "cell_type": "markdown",
      "source": [
        "Vamos a recrear el mismo contador `while` con el lazo `for`."
      ],
      "metadata": {
        "id": "ryn0hfdlUwC8"
      }
    },
    {
      "cell_type": "code",
      "source": [
        "for n in range(1,11):\n",
        "    print(n)"
      ],
      "metadata": {
        "id": "KkL1wUIj9jL4",
        "colab": {
          "base_uri": "https://localhost:8080/"
        },
        "outputId": "fe25e09e-89f0-49d8-c85c-dc0f47115287"
      },
      "execution_count": null,
      "outputs": [
        {
          "output_type": "stream",
          "name": "stdout",
          "text": [
            "1\n",
            "2\n",
            "3\n",
            "4\n",
            "5\n",
            "6\n",
            "7\n",
            "8\n",
            "9\n",
            "10\n"
          ]
        }
      ]
    },
    {
      "cell_type": "code",
      "source": [
        "for e in range(1,4):\n",
        "  nota_1 = float(input(\"Digita la primera nota \"))\n",
        "  nota_2 = float(input(\"Digita la segunda nota \"))\n",
        "  nota_3 = float(input(\"Digita la tercera nota \"))\n",
        "  print(f\"El promedio estudiante {e} es: {(nota_1 + nota_2 + nota_3) / 3}\")\n",
        "\n",
        "\n",
        "\n",
        "\n"
      ],
      "metadata": {
        "id": "uXIZnLSr9jOu",
        "colab": {
          "base_uri": "https://localhost:8080/"
        },
        "outputId": "5330d9da-cb7d-4041-e456-87e9c6795554"
      },
      "execution_count": null,
      "outputs": [
        {
          "output_type": "stream",
          "name": "stdout",
          "text": [
            "Digita la primera nota 7\n",
            "Digita la segunda nota 7\n",
            "Digita la tercera nota 7\n",
            "El promedio estudiante 1 es: 7.0\n",
            "Digita la primera nota 8\n",
            "Digita la segunda nota 5\n",
            "Digita la tercera nota 4\n",
            "El promedio estudiante 2 es: 5.666666666666667\n",
            "Digita la primera nota 8\n",
            "Digita la segunda nota 5\n",
            "Digita la tercera nota 4\n",
            "El promedio estudiante 3 es: 5.666666666666667\n"
          ]
        }
      ]
    },
    {
      "cell_type": "code",
      "source": [
        "# improme todos los numeros menos el 5\n",
        "for i in range(1, 6):\n",
        "    if i == 4:\n",
        "         continue\n",
        "    print(i)"
      ],
      "metadata": {
        "colab": {
          "base_uri": "https://localhost:8080/"
        },
        "id": "D3NYHRBtiIo4",
        "outputId": "9034a720-dfe7-4540-a893-ab5d09072cbb"
      },
      "execution_count": null,
      "outputs": [
        {
          "output_type": "stream",
          "name": "stdout",
          "text": [
            "1\n",
            "2\n",
            "3\n",
            "5\n"
          ]
        }
      ]
    },
    {
      "cell_type": "code",
      "source": [
        "for i in range(1, 6):\n",
        "    if i == 4:\n",
        "        break\n",
        "    print(i)"
      ],
      "metadata": {
        "colab": {
          "base_uri": "https://localhost:8080/"
        },
        "id": "F1ZhWJK6iYg_",
        "outputId": "943393b4-e41d-411a-f9b4-205efe94e3e3"
      },
      "execution_count": null,
      "outputs": [
        {
          "output_type": "stream",
          "name": "stdout",
          "text": [
            "1\n",
            "2\n",
            "3\n"
          ]
        }
      ]
    },
    {
      "cell_type": "code",
      "source": [
        "# 1 - Escribe un programa que solicite dos números enteros e imprima todos los números enteros entre ellos.\n",
        "numero1 = int(input(\"Ingrese el primer numero: \"))\n",
        "numero2 = int(input(\"Ingrese el segundo numero: \"))\n",
        "\n",
        "if numero1 < numero2:\n",
        "    for i in range(numero1 + 1, numero2):\n",
        "        print(i)\n",
        "\n",
        "\n"
      ],
      "metadata": {
        "colab": {
          "base_uri": "https://localhost:8080/"
        },
        "id": "9gWnbMaZjJsq",
        "outputId": "0f14e746-6125-4c2d-b97a-3e6ec783c13d"
      },
      "execution_count": 49,
      "outputs": [
        {
          "name": "stdout",
          "output_type": "stream",
          "text": [
            "Ingrese el primer numero: 8\n",
            "Ingrese el segundo numero: 5\n"
          ]
        }
      ]
    },
    {
      "cell_type": "code",
      "source": [
        "# 2 - Escribe un programa para calcular cuántos días tomará que la colonia de una bacteria A supere\n",
        "# o iguale a la colonia de una bacteria B, basado en tasas de crecimiento del 3% y 1.5%,\n",
        "# respectivamente. Supón que la colonia A comienza con 4 elementos y B con 10.\n",
        "\n",
        "tasa_crecimiento_bacteria_A = 0.03\n",
        "tasa_crecimiento_bacteria_B = 0.015\n",
        "\n",
        "colonia_A = 4\n",
        "colonia_B = 10\n",
        "\n",
        "if colonia_A <= colonia_B:\n",
        "    dias = 0\n",
        "    while colonia_A <= colonia_B:\n",
        "        colonia_A = colonia_A * (1 + tasa_crecimiento_bacteria_A)\n",
        "        colonia_B = colonia_B * (1 + tasa_crecimiento_bacteria_B)\n",
        "        print(f\"Colonia A: {colonia_A}\")\n",
        "        print(f\"Colonia B: {colonia_B}\")\n",
        "        dias += 1\n",
        "\n",
        "print(f\"Tomará {dias} días para que la colonia A supere a la colonia B.\")\n",
        "\n",
        "\n",
        "\n",
        "\n"
      ],
      "metadata": {
        "colab": {
          "base_uri": "https://localhost:8080/"
        },
        "id": "sA44-fgall4f",
        "outputId": "b92a8644-792c-476f-ae64-85190913634a"
      },
      "execution_count": null,
      "outputs": [
        {
          "output_type": "stream",
          "name": "stdout",
          "text": [
            "Colonia A: 4.12\n",
            "Colonia B: 10.149999999999999\n",
            "Colonia A: 4.2436\n",
            "Colonia B: 10.302249999999997\n",
            "Colonia A: 4.370908\n",
            "Colonia B: 10.456783749999996\n",
            "Colonia A: 4.5020352400000005\n",
            "Colonia B: 10.613635506249995\n",
            "Colonia A: 4.6370962972\n",
            "Colonia B: 10.772840038843745\n",
            "Colonia A: 4.7762091861160005\n",
            "Colonia B: 10.934432639426399\n",
            "Colonia A: 4.919495461699481\n",
            "Colonia B: 11.098449129017794\n",
            "Colonia A: 5.0670803255504655\n",
            "Colonia B: 11.26492586595306\n",
            "Colonia A: 5.21909273531698\n",
            "Colonia B: 11.433899753942356\n",
            "Colonia A: 5.375665517376489\n",
            "Colonia B: 11.60540825025149\n",
            "Colonia A: 5.536935482897784\n",
            "Colonia B: 11.77948937400526\n",
            "Colonia A: 5.703043547384717\n",
            "Colonia B: 11.956181714615338\n",
            "Colonia A: 5.874134853806259\n",
            "Colonia B: 12.135524440334567\n",
            "Colonia A: 6.050358899420448\n",
            "Colonia B: 12.317557306939584\n",
            "Colonia A: 6.231869666403061\n",
            "Colonia B: 12.502320666543676\n",
            "Colonia A: 6.418825756395154\n",
            "Colonia B: 12.68985547654183\n",
            "Colonia A: 6.611390529087008\n",
            "Colonia B: 12.880203308689955\n",
            "Colonia A: 6.809732244959618\n",
            "Colonia B: 13.073406358320304\n",
            "Colonia A: 7.014024212308407\n",
            "Colonia B: 13.269507453695107\n",
            "Colonia A: 7.22444493867766\n",
            "Colonia B: 13.468550065500532\n",
            "Colonia A: 7.4411782868379905\n",
            "Colonia B: 13.670578316483038\n",
            "Colonia A: 7.664413635443131\n",
            "Colonia B: 13.875636991230282\n",
            "Colonia A: 7.894346044506425\n",
            "Colonia B: 14.083771546098735\n",
            "Colonia A: 8.131176425841618\n",
            "Colonia B: 14.295028119290214\n",
            "Colonia A: 8.375111718616866\n",
            "Colonia B: 14.509453541079566\n",
            "Colonia A: 8.626365070175373\n",
            "Colonia B: 14.727095344195758\n",
            "Colonia A: 8.885156022280635\n",
            "Colonia B: 14.948001774358694\n",
            "Colonia A: 9.151710702949053\n",
            "Colonia B: 15.172221800974073\n",
            "Colonia A: 9.426262024037525\n",
            "Colonia B: 15.399805127988683\n",
            "Colonia A: 9.70904988475865\n",
            "Colonia B: 15.630802204908512\n",
            "Colonia A: 10.00032138130141\n",
            "Colonia B: 15.865264237982139\n",
            "Colonia A: 10.300331022740453\n",
            "Colonia B: 16.10324320155187\n",
            "Colonia A: 10.609340953422667\n",
            "Colonia B: 16.344791849575145\n",
            "Colonia A: 10.927621182025346\n",
            "Colonia B: 16.58996372731877\n",
            "Colonia A: 11.255449817486106\n",
            "Colonia B: 16.838813183228552\n",
            "Colonia A: 11.59311331201069\n",
            "Colonia B: 17.09139538097698\n",
            "Colonia A: 11.94090671137101\n",
            "Colonia B: 17.347766311691633\n",
            "Colonia A: 12.29913391271214\n",
            "Colonia B: 17.607982806367005\n",
            "Colonia A: 12.668107930093505\n",
            "Colonia B: 17.872102548462507\n",
            "Colonia A: 13.048151167996311\n",
            "Colonia B: 18.140184086689445\n",
            "Colonia A: 13.4395957030362\n",
            "Colonia B: 18.412286847989783\n",
            "Colonia A: 13.842783574127287\n",
            "Colonia B: 18.688471150709628\n",
            "Colonia A: 14.258067081351106\n",
            "Colonia B: 18.96879821797027\n",
            "Colonia A: 14.68580909379164\n",
            "Colonia B: 19.253330191239822\n",
            "Colonia A: 15.12638336660539\n",
            "Colonia B: 19.542130144108416\n",
            "Colonia A: 15.580174867603553\n",
            "Colonia B: 19.83526209627004\n",
            "Colonia A: 16.04758011363166\n",
            "Colonia B: 20.132791027714088\n",
            "Colonia A: 16.52900751704061\n",
            "Colonia B: 20.434782893129796\n",
            "Colonia A: 17.02487774255183\n",
            "Colonia B: 20.741304636526742\n",
            "Colonia A: 17.535624074828384\n",
            "Colonia B: 21.05242420607464\n",
            "Colonia A: 18.061692797073235\n",
            "Colonia B: 21.368210569165758\n",
            "Colonia A: 18.60354358098543\n",
            "Colonia B: 21.68873372770324\n",
            "Colonia A: 19.161649888414996\n",
            "Colonia B: 22.01406473361879\n",
            "Colonia A: 19.736499385067447\n",
            "Colonia B: 22.34427570462307\n",
            "Colonia A: 20.32859436661947\n",
            "Colonia B: 22.679439840192412\n",
            "Colonia A: 20.938452197618055\n",
            "Colonia B: 23.019631437795297\n",
            "Colonia A: 21.566605763546598\n",
            "Colonia B: 23.364925909362224\n",
            "Colonia A: 22.213603936452998\n",
            "Colonia B: 23.715399798002654\n",
            "Colonia A: 22.880012054546587\n",
            "Colonia B: 24.071130794972692\n",
            "Colonia A: 23.566412416182985\n",
            "Colonia B: 24.43219775689728\n",
            "Colonia A: 24.273404788668476\n",
            "Colonia B: 24.798680723250737\n",
            "Colonia A: 25.00160693232853\n",
            "Colonia B: 25.170660934099494\n",
            "Colonia A: 25.75165514029839\n",
            "Colonia B: 25.548220848110983\n",
            "Tomará 63 días para que la colonia A supere a la colonia B.\n"
          ]
        }
      ]
    },
    {
      "cell_type": "code",
      "source": [
        "# 3 - Para procesar una cantidad de 15 datos de evaluaciones de usuarios de un servicio de la empresa,\n",
        "# necesitamos verificar si las calificaciones son válidas. Por lo tanto, escribe un programa que recibirá\n",
        "# calificaciones del 0 al 5 y verificará si son valores válidos. Si se ingresa una calificación superior\n",
        "# a 5 o inferior a 0, se repetirá hasta que el usuario ingrese un valor válido.\n",
        "\n",
        "\n",
        "for i in range(15):\n",
        "    nota = float(input(\"Ingrese una nota: \"))\n",
        "\n",
        "    while nota > 5 or nota < 0:\n",
        "        print(\"Ingrese un valor válido.\")\n",
        "        nota = float(input(\"Ingrese una nota: \"))\n",
        "\n",
        "print(\"Todas las notas son válidas.\")\n",
        "\n",
        "\n"
      ],
      "metadata": {
        "colab": {
          "base_uri": "https://localhost:8080/"
        },
        "id": "8HGqg5wHutQu",
        "outputId": "864428ce-1f7f-4b42-986f-b8002f746d1f"
      },
      "execution_count": 53,
      "outputs": [
        {
          "output_type": "stream",
          "name": "stdout",
          "text": [
            "Ingrese una nota: 9\n",
            "Ingrese un valor válido.\n",
            "Ingrese una nota: 5\n",
            "Ingrese una nota: 4\n",
            "Ingrese una nota: 3\n",
            "Ingrese una nota: 89\n",
            "Ingrese un valor válido.\n",
            "Ingrese una nota: 5\n",
            "Ingrese una nota: 6\n",
            "Ingrese un valor válido.\n",
            "Ingrese una nota: 4\n",
            "Ingrese una nota: 2\n",
            "Ingrese una nota: 3\n",
            "Ingrese una nota: 4\n",
            "Ingrese una nota: 8\n",
            "Ingrese un valor válido.\n",
            "Ingrese una nota: 6\n",
            "Ingrese un valor válido.\n",
            "Ingrese una nota: 1\n",
            "Ingrese una nota: 2\n",
            "Ingrese una nota: 5\n",
            "Ingrese una nota: 5\n",
            "Ingrese una nota: 5\n",
            "Ingrese una nota: 5\n",
            "Ingrese una nota: 5\n",
            "Todas las notas son válidas.\n"
          ]
        }
      ]
    },
    {
      "cell_type": "code",
      "source": [
        "# 4 - Desarrolla un programa que lea un conjunto indefinido de temperaturas en grados Celsius y calcule su promedio.\n",
        "# La lectura debe detenerse al ingresar el valor -273°C.\n",
        "\n",
        "suma = 0\n",
        "contador = 0\n",
        "\n",
        "temperatura = float(input(\"Ingrese una temperatura en grados Celsius: \"))\n",
        "\n",
        "while temperatura != -273:\n",
        "    suma += temperatura\n",
        "    contador += 1\n",
        "    temperatura = float(input(\"Ingrese una temperatura en grados Celsius: \"))\n",
        "    print(f\"Promedio de temperatura en grados Celsius es: {suma / contador}\")\n",
        "\n",
        ""
      ],
      "metadata": {
        "colab": {
          "base_uri": "https://localhost:8080/"
        },
        "id": "IlJooIZqxkqi",
        "outputId": "e07279c9-180c-487c-b11a-37bb69370f84"
      },
      "execution_count": 54,
      "outputs": [
        {
          "output_type": "stream",
          "name": "stdout",
          "text": [
            "Ingrese una temperatura en grados Celsius: 100\n",
            "Ingrese una temperatura en grados Celsius: 230\n",
            "Promedio de temperatura en grados Celsius es: 100.0\n",
            "Ingrese una temperatura en grados Celsius: 45\n",
            "Promedio de temperatura en grados Celsius es: 165.0\n",
            "Ingrese una temperatura en grados Celsius: 65\n",
            "Promedio de temperatura en grados Celsius es: 125.0\n",
            "Ingrese una temperatura en grados Celsius: 4566\n",
            "Promedio de temperatura en grados Celsius es: 110.0\n",
            "Ingrese una temperatura en grados Celsius: 273\n",
            "Promedio de temperatura en grados Celsius es: 1001.2\n",
            "Ingrese una temperatura en grados Celsius: -273\n",
            "Promedio de temperatura en grados Celsius es: 879.8333333333334\n"
          ]
        }
      ]
    },
    {
      "cell_type": "code",
      "source": [
        "# 5 - Escribe un programa que calcule el factorial de un número entero proporcionado por el usuario.\n",
        "# Recuerda que el factorial de un número entero es el producto de ese número por todos sus antecesores\n",
        "# hasta llegar al número 1. Por ejemplo, el factorial de 5 es 5 x 4 x 3 x 2 x 1 = 120.\n",
        "\n",
        "numero = int(input(\"Ingrese un numero: \"))\n",
        "factorial = 1\n",
        "\n",
        "for i in range(1, numero + 1):\n",
        "    factorial = factorial * i\n",
        "\n",
        "print(f\"El factorial de {numero} es: {factorial}\")"
      ],
      "metadata": {
        "colab": {
          "base_uri": "https://localhost:8080/"
        },
        "id": "vCYu4B0VyzD3",
        "outputId": "81a926e2-857b-43d9-8502-ed9eae2cf6a9"
      },
      "execution_count": 56,
      "outputs": [
        {
          "output_type": "stream",
          "name": "stdout",
          "text": [
            "Ingrese un numero: 6\n",
            "El factorial de 6 es: 720\n"
          ]
        }
      ]
    },
    {
      "cell_type": "code",
      "source": [
        "# Momento de los proyectos\n",
        "# 6 - Escribe un programa que genere la tabla de multiplicar de un número entero del 1 al 10,\n",
        "# según la elección del usuario. Como ejemplo, para el número 2, la tabla de multiplicar debe mostrarse\n",
        "# en el siguiente formato:\n",
        "# Tabla de multiplicar del 2:\n",
        "# 2 x 1 = 2\n",
        "# 2 x 2 = 4\n",
        "# [...]\n",
        "# 2 x 10 = 20\n",
        "\n",
        "numero = int(input(\"Ingrese un numero: \"))\n",
        "\n",
        "for i in range(1, 11):\n",
        "    print(f\"{numero} x {i} = {numero * i}\")\n",
        "\n",
        ""
      ],
      "metadata": {
        "colab": {
          "base_uri": "https://localhost:8080/"
        },
        "id": "oZy_LC3dzY0X",
        "outputId": "1a4fbfad-1368-4532-e342-b3ff7033e218"
      },
      "execution_count": 57,
      "outputs": [
        {
          "output_type": "stream",
          "name": "stdout",
          "text": [
            "Ingrese un numero: 2\n",
            "2 x 1 = 2\n",
            "2 x 2 = 4\n",
            "2 x 3 = 6\n",
            "2 x 4 = 8\n",
            "2 x 5 = 10\n",
            "2 x 6 = 12\n",
            "2 x 7 = 14\n",
            "2 x 8 = 16\n",
            "2 x 9 = 18\n",
            "2 x 10 = 20\n"
          ]
        }
      ]
    },
    {
      "cell_type": "markdown",
      "source": [
        "# Estructuras de datos"
      ],
      "metadata": {
        "id": "8noP8OJ0Vhux"
      }
    },
    {
      "cell_type": "code",
      "source": [
        "# 7 - Los números primos tienen diversas aplicaciones en Ciencia de Datos, como en criptografía y seguridad.\n",
        "# Un número primo es aquel que es divisible solo por sí mismo y por 1. Por lo tanto, crea un programa que solicite\n",
        "# un número entero y determine si es un número primo o no.\n",
        "\n",
        "numero = int(input(\"Ingrese un numero: \"))\n",
        "\n",
        "if numero % 2 == 0 or numero % 3 == 0 or numero % 5 == 0 or numero % 7 == 0:\n",
        "    print(f\"El numero {numero} no es primo.\")\n",
        "else:\n",
        "    print(f\"El numero {numero} es primo.\")\n",
        "\n"
      ],
      "metadata": {
        "colab": {
          "base_uri": "https://localhost:8080/"
        },
        "id": "7Kelvoytzxe-",
        "outputId": "c57b3554-ccb9-4278-e41d-bd9e52005336"
      },
      "execution_count": 64,
      "outputs": [
        {
          "output_type": "stream",
          "name": "stdout",
          "text": [
            "Ingrese un numero: 3\n",
            "El numero 3 no es primo.\n"
          ]
        }
      ]
    },
    {
      "cell_type": "code",
      "source": [
        "# Recopilamos el número\n",
        "numero = int(input('Ingresa un número entero: ')\n",
        "\n",
        "# Los números enteros iguales o menores que 1 no se consideran primos\n",
        "if numero > 1:\n",
        "    for i in range(2, numero):\n",
        "            if (numero % i) == 0:\n",
        "            print(f'{numero} no es un número primo')\n",
        "            break\n",
        "    else:\n",
        "        print(f'{numero} es un número primo')\n",
        "else:\n",
        "    print(f'{numero} no es un número primo')"
      ],
      "metadata": {
        "id": "Xw8ctfxM5XM4"
      },
      "execution_count": null,
      "outputs": []
    },
    {
      "cell_type": "code",
      "source": [
        "# 8 - Vamos a comprender la distribución de edades de los pensionistas de una empresa de seguros.\n",
        "# Escribe un programa que lea las edades de una cantidad no informada de clientes y muestre la\n",
        "# distribución en los intervalos [0-25], [26-50], [51-75] y [76-100]. La entrada de datos se detendrá\n",
        "# al ingresar un número negativo."
      ],
      "metadata": {
        "id": "s1jsAsB165CC"
      },
      "execution_count": null,
      "outputs": []
    },
    {
      "cell_type": "code",
      "source": [
        "# 9 - En una elección para la gerencia de una empresa con 20 empleados, hay cuatro candidatos.\n",
        "# Escribe un programa que calcule al ganador de la elección. La votación se realizó de la siguiente manera:\n",
        "# Cada empleado votó por uno de los cuatro candidatos (representados por los números 1, 2, 3 y 4).\n",
        "# También se contaron los votos nulos (representados por el número 5) y los votos en blanco (representados por el número 6).\n",
        "# Al final de la votación, el programa debe mostrar el número total de votos para cada candidato, los votos nulos y los votos\n",
        "# en blanco. Además, debe calcular y mostrar el porcentaje de votos nulos con respecto al total de votos y el porcentaje de votos\n",
        "# en blanco con respecto al total de votos.\n",
        "# variables\n",
        "candidato_1 = 0\n",
        "candidato_2 = 0\n",
        "candidato_3 = 0\n",
        "candidato_4 = 0\n",
        "votos_nulos = 0\n",
        "votos_en_blanco = 0\n",
        "\n",
        "# voto = int(input(\"Ingrese el numero de su candidato para su voto: (1,2,3,4,5 o 6 (5 voto nulo ) (6 voto blanco))\"))\n",
        "\n",
        "for i in range(20):\n",
        "\n",
        "  voto = int(input(\"Ingrese el numero de su candidato para su voto: (1,2,3,4,5 o 6 (5 voto nulo ) (6 voto blanco))\"))\n",
        "  print(f\"Voto número: {i + 1}\")\n",
        "  if voto == 1:\n",
        "     candidato_1 += 1\n",
        "  elif voto == 2:\n",
        "    candidato_2 += 1\n",
        "  elif voto == 3:\n",
        "    candidato_3 += 1\n",
        "  elif voto == 4:\n",
        "    candidato_4 += 1\n",
        "  elif voto == 5:\n",
        "    votos_nulos += 1\n",
        "  elif voto == 6:\n",
        "    votos_en_blanco += 1\n",
        "  else:\n",
        "    print(\"Opcion invalida\")\n",
        "\n",
        "numero_total_votos = candidato_1 + candidato_2 + candidato_3 + candidato_4 + votos_nulos + votos_en_blanco\n",
        "porcentaje_votos_nulos = (votos_nulos / numero_total_votos) * 100\n",
        "porcentaje_votos_en_blanco = (votos_en_blanco / numero_total_votos) * 100\n",
        "\n",
        "print(f\"Numero total de votoS candidato 1 {candidato_1}\")\n",
        "print(f\"Numero total de votoS candidato 2 {candidato_2}\")\n",
        "print(f\"Numero total de votoS candidato 3 {candidato_3}\")\n",
        "print(f\"Numero total de votoS candidato 4 {candidato_4}\")\n",
        "print(f\"Numero total de votoS nulos {votos_nulos}\")\n",
        "print(f\"Numero total de votoS en blanco {votos_en_blanco}\")\n",
        "print(f\"Porcentaje de votos nulos {porcentaje_votos_nulos}%\")\n",
        "print(f\"Porcentaje de votos en blanco {porcentaje_votos_en_blanco}%\")\n",
        "\n",
        "\n",
        "\n"
      ],
      "metadata": {
        "colab": {
          "base_uri": "https://localhost:8080/"
        },
        "id": "KlwJAFWG7Nu0",
        "outputId": "fab09262-cc7a-4d77-c349-291419ae41e7"
      },
      "execution_count": 9,
      "outputs": [
        {
          "output_type": "stream",
          "name": "stdout",
          "text": [
            "Ingrese el numero de su candidato para su voto: (1,2,3,4,5 o 6 (5 voto nulo ) (6 voto blanco))1\n",
            "Voto número: 1\n",
            "Ingrese el numero de su candidato para su voto: (1,2,3,4,5 o 6 (5 voto nulo ) (6 voto blanco))2\n",
            "Voto número: 2\n",
            "Ingrese el numero de su candidato para su voto: (1,2,3,4,5 o 6 (5 voto nulo ) (6 voto blanco))2\n",
            "Voto número: 3\n",
            "Ingrese el numero de su candidato para su voto: (1,2,3,4,5 o 6 (5 voto nulo ) (6 voto blanco))2\n",
            "Voto número: 4\n",
            "Ingrese el numero de su candidato para su voto: (1,2,3,4,5 o 6 (5 voto nulo ) (6 voto blanco))3\n",
            "Voto número: 5\n",
            "Ingrese el numero de su candidato para su voto: (1,2,3,4,5 o 6 (5 voto nulo ) (6 voto blanco))3\n",
            "Voto número: 6\n",
            "Ingrese el numero de su candidato para su voto: (1,2,3,4,5 o 6 (5 voto nulo ) (6 voto blanco))5\n",
            "Voto número: 7\n",
            "Ingrese el numero de su candidato para su voto: (1,2,3,4,5 o 6 (5 voto nulo ) (6 voto blanco))5\n",
            "Voto número: 8\n",
            "Ingrese el numero de su candidato para su voto: (1,2,3,4,5 o 6 (5 voto nulo ) (6 voto blanco))5\n",
            "Voto número: 9\n",
            "Ingrese el numero de su candidato para su voto: (1,2,3,4,5 o 6 (5 voto nulo ) (6 voto blanco))4\n",
            "Voto número: 10\n",
            "Ingrese el numero de su candidato para su voto: (1,2,3,4,5 o 6 (5 voto nulo ) (6 voto blanco))4\n",
            "Voto número: 11\n",
            "Ingrese el numero de su candidato para su voto: (1,2,3,4,5 o 6 (5 voto nulo ) (6 voto blanco))4\n",
            "Voto número: 12\n",
            "Ingrese el numero de su candidato para su voto: (1,2,3,4,5 o 6 (5 voto nulo ) (6 voto blanco))4\n",
            "Voto número: 13\n",
            "Ingrese el numero de su candidato para su voto: (1,2,3,4,5 o 6 (5 voto nulo ) (6 voto blanco))5\n",
            "Voto número: 14\n",
            "Ingrese el numero de su candidato para su voto: (1,2,3,4,5 o 6 (5 voto nulo ) (6 voto blanco))6\n",
            "Voto número: 15\n",
            "Ingrese el numero de su candidato para su voto: (1,2,3,4,5 o 6 (5 voto nulo ) (6 voto blanco))5\n",
            "Voto número: 16\n",
            "Ingrese el numero de su candidato para su voto: (1,2,3,4,5 o 6 (5 voto nulo ) (6 voto blanco))6\n",
            "Voto número: 17\n",
            "Ingrese el numero de su candidato para su voto: (1,2,3,4,5 o 6 (5 voto nulo ) (6 voto blanco))5\n",
            "Voto número: 18\n",
            "Ingrese el numero de su candidato para su voto: (1,2,3,4,5 o 6 (5 voto nulo ) (6 voto blanco))6\n",
            "Voto número: 19\n",
            "Ingrese el numero de su candidato para su voto: (1,2,3,4,5 o 6 (5 voto nulo ) (6 voto blanco))5\n",
            "Voto número: 20\n",
            "Numero total de votoS candidato 1 1\n",
            "Numero total de votoS candidato 2 3\n",
            "Numero total de votoS candidato 3 2\n",
            "Numero total de votoS candidato 4 4\n",
            "Numero total de votoS nulos 7\n",
            "Numero total de votoS en blanco 3\n",
            "Porcentaje de votos nulos 35.0%\n",
            "Porcentaje de votos en blanco 15.0%\n"
          ]
        }
      ]
    },
    {
      "cell_type": "markdown",
      "source": [
        "Un conjunto de elementos es una colección de items, que son almacenados juntos de manera organizada. Algunos ejemplos de conjuntos de elementos en Python son las listas, los strings y los diccionarios."
      ],
      "metadata": {
        "id": "xpEUkefTu8fY"
      }
    },
    {
      "cell_type": "code",
      "source": [],
      "metadata": {
        "id": "haoLYmtE7MUL"
      },
      "execution_count": null,
      "outputs": []
    },
    {
      "cell_type": "markdown",
      "source": [
        "## Listas"
      ],
      "metadata": {
        "id": "THSg4KYLwxIb"
      }
    },
    {
      "cell_type": "markdown",
      "source": [
        "Las listas pueden almacenar una colección de items en orden. Ellas son delimitadas por corchetes `[]` y sus elementos son separados por comas.\n",
        "\n",
        "Estas pueden almacenar cualquier tipo de items, incluyendo números, strings, objetos, otras listas, entre otros. También nos permiten almacenar items de tipos de datos diferentes juntos en una única lista."
      ],
      "metadata": {
        "id": "dzpsiqrOyJcK"
      }
    },
    {
      "cell_type": "code",
      "source": [
        "lista = ['Penélope Camacho',9.5,9.0,9.7,True]\n",
        "lista"
      ],
      "metadata": {
        "id": "DO3TBj7nAYeG",
        "colab": {
          "base_uri": "https://localhost:8080/"
        },
        "outputId": "fbee2eb5-265e-4b5b-badf-a0dd9331074b"
      },
      "execution_count": null,
      "outputs": [
        {
          "output_type": "execute_result",
          "data": {
            "text/plain": [
              "['Penélope Camacho', 9.5, 9.0, 9.7, True]"
            ]
          },
          "metadata": {},
          "execution_count": 62
        }
      ]
    },
    {
      "cell_type": "code",
      "source": [],
      "metadata": {
        "id": "DO2ubP9N9D_2"
      },
      "execution_count": null,
      "outputs": []
    },
    {
      "cell_type": "markdown",
      "source": [
        "Las listas son organizadas en Python porque **cada elemento de la lista tiene un índice que indica su posición al interior de la lista**. Los índices comienzan en 0 van hasta el tamaño de la lista menos 1."
      ],
      "metadata": {
        "id": "qUz3sJNl6LgK"
      }
    },
    {
      "cell_type": "markdown",
      "source": [
        "Tenemos entonces 5 elementos con índices que varían de 0 a 4, ordenadamente:\n",
        "\n",
        "```\n",
        "#             [0]           [1]   [2]   [3]    [4]\n",
        "lista = ['Penélope Camacho', 9.5 , 9.0 , 9.7 , True]\n",
        "```\n",
        "\n",
        "En Python tenemos también los índices **negativos** que se inician en el último elemento con el valor de `-1` y avanzan en el universo de los negativos hasta llegar al 1° elemento:\n",
        "\n",
        "```\n",
        "#             [-5]         [-4]  [-3]  [-2]   [-1]\n",
        "lista = ['Penélope Camacho', 9.5 , 9.0 , 9.7 , True]\n",
        "```\n",
        "\n",
        "Logramos seleccionar separadamente cada elemento a través de sus respectivos índices. Colocando el nombre de la lista y en seguida el índice que será seleccionado."
      ],
      "metadata": {
        "id": "rLf-Qg526hFD"
      }
    },
    {
      "cell_type": "code",
      "source": [],
      "metadata": {
        "id": "4hco1Zqy88Kw"
      },
      "execution_count": null,
      "outputs": []
    },
    {
      "cell_type": "code",
      "source": [],
      "metadata": {
        "id": "M8lH0I2288Ph"
      },
      "execution_count": null,
      "outputs": []
    },
    {
      "cell_type": "markdown",
      "source": [
        "Una forma más dinámica de trabajar item a item en una lista es utilizando un lazo `for` para leer un elemento a la vez."
      ],
      "metadata": {
        "id": "6TaE1ijmBTCd"
      }
    },
    {
      "cell_type": "code",
      "source": [],
      "metadata": {
        "id": "rBx4Yu1786Sy"
      },
      "execution_count": null,
      "outputs": []
    },
    {
      "cell_type": "markdown",
      "source": [
        "**Situación**: La nota `9.0` de Penélope necesita ser ajustada pues ganó 1 punto en su última nota por participación en clase. Entonces es necesario realizar un cambio en el índice `2` de `9.0` a `10.0`."
      ],
      "metadata": {
        "id": "Dh1_HnIVvucY"
      }
    },
    {
      "cell_type": "code",
      "source": [],
      "metadata": {
        "id": "bVPoZg668z3T"
      },
      "execution_count": null,
      "outputs": []
    },
    {
      "cell_type": "code",
      "source": [],
      "metadata": {
        "id": "Jo_PBQ0g8z7D"
      },
      "execution_count": null,
      "outputs": []
    },
    {
      "cell_type": "markdown",
      "source": [
        "También podemos calcular el promedio del estudiante a partir de los datos que tenemos."
      ],
      "metadata": {
        "id": "53XduzXkycAf"
      }
    },
    {
      "cell_type": "code",
      "source": [],
      "metadata": {
        "id": "SIH61Rrb8yv4"
      },
      "execution_count": null,
      "outputs": []
    },
    {
      "cell_type": "markdown",
      "source": [
        "## Manipulación de listas\n",
        "\n",
        "Las listas son muy útiles en Python porque nos permiten almacenar y acceder a una colección de items de manera organizada y rápida. Estas también ofrecen muchos métodos útiles para manipular los itens almacenados, como adicionar, remover, clasificar y buscar elementos."
      ],
      "metadata": {
        "id": "d-iYr10-y4qw"
      }
    },
    {
      "cell_type": "markdown",
      "source": [
        "#### Cantidad de elementos\n",
        "\n",
        "Usamos la función [`len()`](https://docs.python.org/3/library/functions.html#len) para descubrir la cantidad de elementos de un conjunto."
      ],
      "metadata": {
        "id": "ZLqx9A97XVB_"
      }
    },
    {
      "cell_type": "code",
      "source": [],
      "metadata": {
        "id": "6q1Tmm7P8wQf"
      },
      "execution_count": null,
      "outputs": []
    },
    {
      "cell_type": "markdown",
      "source": [
        "#### Partición\n",
        "\n",
        "La partición de listas por indexación en Python es una técnica muy útil para seleccionar un subconjunto de elementos de una lista. Esta se realiza usando la sintaxis `lista[inicio:fin]`, donde `inicio` es el índice del primer elemento que será incluído en la partición `fin` es el índice del primer elemento que será excluído de la partición."
      ],
      "metadata": {
        "id": "Z5tpstlHJss3"
      }
    },
    {
      "cell_type": "code",
      "source": [],
      "metadata": {
        "id": "NctvJTTU8uV9"
      },
      "execution_count": null,
      "outputs": []
    },
    {
      "cell_type": "code",
      "source": [],
      "metadata": {
        "id": "bQZUwldj8uY2"
      },
      "execution_count": null,
      "outputs": []
    },
    {
      "cell_type": "markdown",
      "source": [
        "#### [`append()`](https://docs.python.org/3/tutorial/datastructures.html#:~:text=of%20list%20objects%3A-,list.append(x),-Add%20an%20item)\n",
        "\n",
        "Añade un elemento al final de la lista."
      ],
      "metadata": {
        "id": "O0RRyabkRzZC"
      }
    },
    {
      "cell_type": "code",
      "source": [],
      "metadata": {
        "id": "_Q0oODwa8spC"
      },
      "execution_count": null,
      "outputs": []
    },
    {
      "cell_type": "code",
      "source": [],
      "metadata": {
        "id": "RM894r2M8sse"
      },
      "execution_count": null,
      "outputs": []
    },
    {
      "cell_type": "markdown",
      "source": [
        "#### [`extend()`](https://docs.python.org/3/tutorial/datastructures.html#:~:text=list.extend(iterable))\n",
        "\n",
        "Añade varios elementos al final de la lista.\n",
        "\n",
        "Añadiremos las notas `[10.0,8.0,9.0]` En la lista de Penélope Camacho."
      ],
      "metadata": {
        "id": "uQV91XMsUOJD"
      }
    },
    {
      "cell_type": "code",
      "source": [],
      "metadata": {
        "id": "6Zk2MpMw8rQc"
      },
      "execution_count": null,
      "outputs": []
    },
    {
      "cell_type": "code",
      "source": [],
      "metadata": {
        "id": "NnoKkoWb8rTQ"
      },
      "execution_count": null,
      "outputs": []
    },
    {
      "cell_type": "markdown",
      "source": [
        "*A continuación te mostraremos lo que no puede realizarse con* `append`."
      ],
      "metadata": {
        "id": "IVJvkTwNUk6M"
      }
    },
    {
      "cell_type": "code",
      "source": [],
      "metadata": {
        "id": "u3Eub2ZL8pp3"
      },
      "execution_count": null,
      "outputs": []
    },
    {
      "cell_type": "code",
      "source": [],
      "metadata": {
        "id": "tsKK5Ne58pvN"
      },
      "execution_count": null,
      "outputs": []
    },
    {
      "cell_type": "markdown",
      "source": [
        "#### [`remove()`](https://docs.python.org/3/tutorial/datastructures.html#:~:text=append(x).-,list.remove(x),-Remove%20the%20first)\n",
        "\n",
        "Remueve un elemento específico de la lista."
      ],
      "metadata": {
        "id": "dPGM5gpyUX1z"
      }
    },
    {
      "cell_type": "code",
      "source": [],
      "metadata": {
        "id": "mmboODPc8nd5"
      },
      "execution_count": null,
      "outputs": []
    },
    {
      "cell_type": "code",
      "source": [],
      "metadata": {
        "id": "T_w6vVgV8nh_"
      },
      "execution_count": null,
      "outputs": []
    },
    {
      "cell_type": "markdown",
      "source": [
        "## Diccionario"
      ],
      "metadata": {
        "id": "Rc22Vc08YDZ2"
      }
    },
    {
      "cell_type": "markdown",
      "source": [
        "Los diccionarios son un tipo de estructura de datos que almacenan pares de *llave-valor*. Estos son delimitados por llaves `{}` y los pares *llave-valor* son separados por comas.\n",
        "\n",
        "```\n",
        "diccionario = {llave: valor}\n",
        "```\n",
        "\n",
        "La **llave** es un elemento único que identifica a un valor en el diccionario, mientras que el **valor** es el item que será almacenado para la llave. Las llaves y sus respectivos valores se pueden emplear para **cualquier tipo de dato**.\n",
        "\n",
        "Los diccionarios son útiles para almacenar y acceder a los datos de manera organizada y rápida. Se trata de un tipo de conjunto de elementos en Python, pues almacenan una colección de items."
      ],
      "metadata": {
        "id": "PJ-cCKPjeWxL"
      }
    },
    {
      "cell_type": "code",
      "source": [],
      "metadata": {
        "id": "NDHhzooE8ld5"
      },
      "execution_count": null,
      "outputs": []
    },
    {
      "cell_type": "code",
      "source": [],
      "metadata": {
        "id": "AVOzqzy-8lhh"
      },
      "execution_count": null,
      "outputs": []
    },
    {
      "cell_type": "markdown",
      "source": [
        "---\n",
        "**Situación:**\n",
        "\n",
        "Vamos a crear un conjunto de datos con las informaciones de matrícula de un estudiante. Los datos son los siguientes:\n",
        "\n",
        "- matrícula: 2000168933\n",
        "- día de registro: 25\n",
        "- mes de registro: 10\n",
        "- grupo: 2E"
      ],
      "metadata": {
        "id": "_JbQ3KMKfkXU"
      }
    },
    {
      "cell_type": "code",
      "source": [],
      "metadata": {
        "id": "0lfOu_c38jED"
      },
      "execution_count": null,
      "outputs": []
    },
    {
      "cell_type": "code",
      "source": [],
      "metadata": {
        "id": "XIuqpTTy8jHV"
      },
      "execution_count": null,
      "outputs": []
    },
    {
      "cell_type": "markdown",
      "source": [
        "Es posible sustituir los valores dentro de una llave. Por ejemplo, recibimos la información de que el grupo del estudiante que registramos cambio a `'2G'` y ahora necesitamos cambiar el valor de la llave `'grupo'`."
      ],
      "metadata": {
        "id": "8ex5pt2ykDd2"
      }
    },
    {
      "cell_type": "code",
      "source": [],
      "metadata": {
        "id": "kQGlp36b8fyP"
      },
      "execution_count": null,
      "outputs": []
    },
    {
      "cell_type": "code",
      "source": [],
      "metadata": {
        "id": "DnfH_qHi8f17"
      },
      "execution_count": null,
      "outputs": []
    },
    {
      "cell_type": "markdown",
      "source": [
        "También podemos añadir otros datos al diccionario. Vamos a añadir la información sobre la modalidad de estudio, nuestro estudiante estudiará inicialemente en la modalidad EAD.\n",
        "\n",
        "Definiremos una llave llamada `'modalidad'` con el valor `'EAD'`."
      ],
      "metadata": {
        "id": "wB0qRb56mQvv"
      }
    },
    {
      "cell_type": "code",
      "source": [],
      "metadata": {
        "id": "EeLYdlIm8d8a"
      },
      "execution_count": null,
      "outputs": []
    },
    {
      "cell_type": "code",
      "source": [],
      "metadata": {
        "id": "olDIavsm8d_o"
      },
      "execution_count": null,
      "outputs": []
    },
    {
      "cell_type": "markdown",
      "source": [
        "## Profundizando en diccionarios"
      ],
      "metadata": {
        "id": "LJ3o_inroxg_"
      }
    },
    {
      "cell_type": "markdown",
      "source": [
        "#### [`pop()`](https://python-reference.readthedocs.io/en/latest/docs/dict/pop.html)\n",
        "Remueve un item de un diccionario y lo representa en la salida."
      ],
      "metadata": {
        "id": "2N3GLlkSpBiu"
      }
    },
    {
      "cell_type": "code",
      "source": [],
      "metadata": {
        "id": "ZsSCZx6G8b-T"
      },
      "execution_count": null,
      "outputs": []
    },
    {
      "cell_type": "code",
      "source": [],
      "metadata": {
        "id": "7lQ8_jpi8cBR"
      },
      "execution_count": null,
      "outputs": []
    },
    {
      "cell_type": "markdown",
      "source": [
        "#### [`items()`](https://python-reference.readthedocs.io/en/latest/docs/dict/items.html)\n",
        "Retorna una lista de pares `llave-valor` del diccionario."
      ],
      "metadata": {
        "id": "sYZGvJJYrW_y"
      }
    },
    {
      "cell_type": "code",
      "source": [],
      "metadata": {
        "id": "ncdycLV08an7"
      },
      "execution_count": null,
      "outputs": []
    },
    {
      "cell_type": "markdown",
      "source": [
        "#### [`keys()`](https://python-reference.readthedocs.io/en/latest/docs/dict/keys.html)\n",
        "Retorna una lista de las llaves del diccionario."
      ],
      "metadata": {
        "id": "Lb0utNFGrZBY"
      }
    },
    {
      "cell_type": "code",
      "source": [],
      "metadata": {
        "id": "eZo0biaM8ZVs"
      },
      "execution_count": null,
      "outputs": []
    },
    {
      "cell_type": "markdown",
      "source": [
        "#### [`values()`](https://python-reference.readthedocs.io/en/latest/docs/dict/values.html)\n",
        "Retorna una lista de los valores del diccionario."
      ],
      "metadata": {
        "id": "qKyu3bf9rbtX"
      }
    },
    {
      "cell_type": "code",
      "source": [],
      "metadata": {
        "id": "-NxRT9C18Yvo"
      },
      "execution_count": null,
      "outputs": []
    },
    {
      "cell_type": "markdown",
      "source": [
        "### Lectura de valores con el lazo `for`"
      ],
      "metadata": {
        "id": "e3XVjR8Frp75"
      }
    },
    {
      "cell_type": "code",
      "source": [],
      "metadata": {
        "id": "NYcjU-Ip8Xan"
      },
      "execution_count": null,
      "outputs": []
    },
    {
      "cell_type": "code",
      "source": [],
      "metadata": {
        "id": "aAnpP1Wv8XfJ"
      },
      "execution_count": null,
      "outputs": []
    }
  ]
}